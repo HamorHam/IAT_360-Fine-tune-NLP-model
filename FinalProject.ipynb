{
  "metadata": {
    "kernelspec": {
      "display_name": "Python 3",
      "name": "python3"
    },
    "language_info": {
      "name": "python",
      "version": "3.7.12",
      "mimetype": "text/x-python",
      "codemirror_mode": {
        "name": "ipython",
        "version": 3
      },
      "pygments_lexer": "ipython3",
      "nbconvert_exporter": "python",
      "file_extension": ".py"
    },
    "colab": {
      "provenance": [],
      "gpuType": "T4",
      "include_colab_link": true
    },
    "accelerator": "GPU",
    "widgets": {
      "application/vnd.jupyter.widget-state+json": {
        "1f9050dd91494ed0aca817b25e4b97a4": {
          "model_module": "@jupyter-widgets/controls",
          "model_name": "HBoxModel",
          "model_module_version": "1.5.0",
          "state": {
            "_dom_classes": [],
            "_model_module": "@jupyter-widgets/controls",
            "_model_module_version": "1.5.0",
            "_model_name": "HBoxModel",
            "_view_count": null,
            "_view_module": "@jupyter-widgets/controls",
            "_view_module_version": "1.5.0",
            "_view_name": "HBoxView",
            "box_style": "",
            "children": [
              "IPY_MODEL_7ac042c8c72f4cf4888ec6b1edd52bdc",
              "IPY_MODEL_943c68a860744b9c8ea50a33e679c4f3",
              "IPY_MODEL_21adfa4de5964d46901e22a751a5e339"
            ],
            "layout": "IPY_MODEL_fe4253eb5fe44554ac51b7467113e6fa"
          }
        },
        "7ac042c8c72f4cf4888ec6b1edd52bdc": {
          "model_module": "@jupyter-widgets/controls",
          "model_name": "HTMLModel",
          "model_module_version": "1.5.0",
          "state": {
            "_dom_classes": [],
            "_model_module": "@jupyter-widgets/controls",
            "_model_module_version": "1.5.0",
            "_model_name": "HTMLModel",
            "_view_count": null,
            "_view_module": "@jupyter-widgets/controls",
            "_view_module_version": "1.5.0",
            "_view_name": "HTMLView",
            "description": "",
            "description_tooltip": null,
            "layout": "IPY_MODEL_8e4857a1f54e4ccd846726572b554c7a",
            "placeholder": "​",
            "style": "IPY_MODEL_e0b0d931635e4d1b92c8b3895eb37080",
            "value": "config.json: 100%"
          }
        },
        "943c68a860744b9c8ea50a33e679c4f3": {
          "model_module": "@jupyter-widgets/controls",
          "model_name": "FloatProgressModel",
          "model_module_version": "1.5.0",
          "state": {
            "_dom_classes": [],
            "_model_module": "@jupyter-widgets/controls",
            "_model_module_version": "1.5.0",
            "_model_name": "FloatProgressModel",
            "_view_count": null,
            "_view_module": "@jupyter-widgets/controls",
            "_view_module_version": "1.5.0",
            "_view_name": "ProgressView",
            "bar_style": "success",
            "description": "",
            "description_tooltip": null,
            "layout": "IPY_MODEL_831887d9fbe44ac8954ff4a462328f86",
            "max": 565,
            "min": 0,
            "orientation": "horizontal",
            "style": "IPY_MODEL_60e9e5766d9a47fdb227c3b9994b9a50",
            "value": 565
          }
        },
        "21adfa4de5964d46901e22a751a5e339": {
          "model_module": "@jupyter-widgets/controls",
          "model_name": "HTMLModel",
          "model_module_version": "1.5.0",
          "state": {
            "_dom_classes": [],
            "_model_module": "@jupyter-widgets/controls",
            "_model_module_version": "1.5.0",
            "_model_name": "HTMLModel",
            "_view_count": null,
            "_view_module": "@jupyter-widgets/controls",
            "_view_module_version": "1.5.0",
            "_view_name": "HTMLView",
            "description": "",
            "description_tooltip": null,
            "layout": "IPY_MODEL_5d0465b728d449609563e7a36d578e09",
            "placeholder": "​",
            "style": "IPY_MODEL_74036055bc6e4a56bd6e9aa3573ee2b5",
            "value": " 565/565 [00:00&lt;00:00, 10.5kB/s]"
          }
        },
        "fe4253eb5fe44554ac51b7467113e6fa": {
          "model_module": "@jupyter-widgets/base",
          "model_name": "LayoutModel",
          "model_module_version": "1.2.0",
          "state": {
            "_model_module": "@jupyter-widgets/base",
            "_model_module_version": "1.2.0",
            "_model_name": "LayoutModel",
            "_view_count": null,
            "_view_module": "@jupyter-widgets/base",
            "_view_module_version": "1.2.0",
            "_view_name": "LayoutView",
            "align_content": null,
            "align_items": null,
            "align_self": null,
            "border": null,
            "bottom": null,
            "display": null,
            "flex": null,
            "flex_flow": null,
            "grid_area": null,
            "grid_auto_columns": null,
            "grid_auto_flow": null,
            "grid_auto_rows": null,
            "grid_column": null,
            "grid_gap": null,
            "grid_row": null,
            "grid_template_areas": null,
            "grid_template_columns": null,
            "grid_template_rows": null,
            "height": null,
            "justify_content": null,
            "justify_items": null,
            "left": null,
            "margin": null,
            "max_height": null,
            "max_width": null,
            "min_height": null,
            "min_width": null,
            "object_fit": null,
            "object_position": null,
            "order": null,
            "overflow": null,
            "overflow_x": null,
            "overflow_y": null,
            "padding": null,
            "right": null,
            "top": null,
            "visibility": null,
            "width": null
          }
        },
        "8e4857a1f54e4ccd846726572b554c7a": {
          "model_module": "@jupyter-widgets/base",
          "model_name": "LayoutModel",
          "model_module_version": "1.2.0",
          "state": {
            "_model_module": "@jupyter-widgets/base",
            "_model_module_version": "1.2.0",
            "_model_name": "LayoutModel",
            "_view_count": null,
            "_view_module": "@jupyter-widgets/base",
            "_view_module_version": "1.2.0",
            "_view_name": "LayoutView",
            "align_content": null,
            "align_items": null,
            "align_self": null,
            "border": null,
            "bottom": null,
            "display": null,
            "flex": null,
            "flex_flow": null,
            "grid_area": null,
            "grid_auto_columns": null,
            "grid_auto_flow": null,
            "grid_auto_rows": null,
            "grid_column": null,
            "grid_gap": null,
            "grid_row": null,
            "grid_template_areas": null,
            "grid_template_columns": null,
            "grid_template_rows": null,
            "height": null,
            "justify_content": null,
            "justify_items": null,
            "left": null,
            "margin": null,
            "max_height": null,
            "max_width": null,
            "min_height": null,
            "min_width": null,
            "object_fit": null,
            "object_position": null,
            "order": null,
            "overflow": null,
            "overflow_x": null,
            "overflow_y": null,
            "padding": null,
            "right": null,
            "top": null,
            "visibility": null,
            "width": null
          }
        },
        "e0b0d931635e4d1b92c8b3895eb37080": {
          "model_module": "@jupyter-widgets/controls",
          "model_name": "DescriptionStyleModel",
          "model_module_version": "1.5.0",
          "state": {
            "_model_module": "@jupyter-widgets/controls",
            "_model_module_version": "1.5.0",
            "_model_name": "DescriptionStyleModel",
            "_view_count": null,
            "_view_module": "@jupyter-widgets/base",
            "_view_module_version": "1.2.0",
            "_view_name": "StyleView",
            "description_width": ""
          }
        },
        "831887d9fbe44ac8954ff4a462328f86": {
          "model_module": "@jupyter-widgets/base",
          "model_name": "LayoutModel",
          "model_module_version": "1.2.0",
          "state": {
            "_model_module": "@jupyter-widgets/base",
            "_model_module_version": "1.2.0",
            "_model_name": "LayoutModel",
            "_view_count": null,
            "_view_module": "@jupyter-widgets/base",
            "_view_module_version": "1.2.0",
            "_view_name": "LayoutView",
            "align_content": null,
            "align_items": null,
            "align_self": null,
            "border": null,
            "bottom": null,
            "display": null,
            "flex": null,
            "flex_flow": null,
            "grid_area": null,
            "grid_auto_columns": null,
            "grid_auto_flow": null,
            "grid_auto_rows": null,
            "grid_column": null,
            "grid_gap": null,
            "grid_row": null,
            "grid_template_areas": null,
            "grid_template_columns": null,
            "grid_template_rows": null,
            "height": null,
            "justify_content": null,
            "justify_items": null,
            "left": null,
            "margin": null,
            "max_height": null,
            "max_width": null,
            "min_height": null,
            "min_width": null,
            "object_fit": null,
            "object_position": null,
            "order": null,
            "overflow": null,
            "overflow_x": null,
            "overflow_y": null,
            "padding": null,
            "right": null,
            "top": null,
            "visibility": null,
            "width": null
          }
        },
        "60e9e5766d9a47fdb227c3b9994b9a50": {
          "model_module": "@jupyter-widgets/controls",
          "model_name": "ProgressStyleModel",
          "model_module_version": "1.5.0",
          "state": {
            "_model_module": "@jupyter-widgets/controls",
            "_model_module_version": "1.5.0",
            "_model_name": "ProgressStyleModel",
            "_view_count": null,
            "_view_module": "@jupyter-widgets/base",
            "_view_module_version": "1.2.0",
            "_view_name": "StyleView",
            "bar_color": null,
            "description_width": ""
          }
        },
        "5d0465b728d449609563e7a36d578e09": {
          "model_module": "@jupyter-widgets/base",
          "model_name": "LayoutModel",
          "model_module_version": "1.2.0",
          "state": {
            "_model_module": "@jupyter-widgets/base",
            "_model_module_version": "1.2.0",
            "_model_name": "LayoutModel",
            "_view_count": null,
            "_view_module": "@jupyter-widgets/base",
            "_view_module_version": "1.2.0",
            "_view_name": "LayoutView",
            "align_content": null,
            "align_items": null,
            "align_self": null,
            "border": null,
            "bottom": null,
            "display": null,
            "flex": null,
            "flex_flow": null,
            "grid_area": null,
            "grid_auto_columns": null,
            "grid_auto_flow": null,
            "grid_auto_rows": null,
            "grid_column": null,
            "grid_gap": null,
            "grid_row": null,
            "grid_template_areas": null,
            "grid_template_columns": null,
            "grid_template_rows": null,
            "height": null,
            "justify_content": null,
            "justify_items": null,
            "left": null,
            "margin": null,
            "max_height": null,
            "max_width": null,
            "min_height": null,
            "min_width": null,
            "object_fit": null,
            "object_position": null,
            "order": null,
            "overflow": null,
            "overflow_x": null,
            "overflow_y": null,
            "padding": null,
            "right": null,
            "top": null,
            "visibility": null,
            "width": null
          }
        },
        "74036055bc6e4a56bd6e9aa3573ee2b5": {
          "model_module": "@jupyter-widgets/controls",
          "model_name": "DescriptionStyleModel",
          "model_module_version": "1.5.0",
          "state": {
            "_model_module": "@jupyter-widgets/controls",
            "_model_module_version": "1.5.0",
            "_model_name": "DescriptionStyleModel",
            "_view_count": null,
            "_view_module": "@jupyter-widgets/base",
            "_view_module_version": "1.2.0",
            "_view_name": "StyleView",
            "description_width": ""
          }
        },
        "15e3e548f13040a28789ae75909bb469": {
          "model_module": "@jupyter-widgets/controls",
          "model_name": "HBoxModel",
          "model_module_version": "1.5.0",
          "state": {
            "_dom_classes": [],
            "_model_module": "@jupyter-widgets/controls",
            "_model_module_version": "1.5.0",
            "_model_name": "HBoxModel",
            "_view_count": null,
            "_view_module": "@jupyter-widgets/controls",
            "_view_module_version": "1.5.0",
            "_view_name": "HBoxView",
            "box_style": "",
            "children": [
              "IPY_MODEL_2685b6aa4d8f41d89a0dbe84426b94cc",
              "IPY_MODEL_c3009e9c17bc4c8b8db91a20413f1833",
              "IPY_MODEL_e7494121733b4b58878dec68aba46323"
            ],
            "layout": "IPY_MODEL_9ee62fbc405e4ba2836690b145c33bef"
          }
        },
        "2685b6aa4d8f41d89a0dbe84426b94cc": {
          "model_module": "@jupyter-widgets/controls",
          "model_name": "HTMLModel",
          "model_module_version": "1.5.0",
          "state": {
            "_dom_classes": [],
            "_model_module": "@jupyter-widgets/controls",
            "_model_module_version": "1.5.0",
            "_model_name": "HTMLModel",
            "_view_count": null,
            "_view_module": "@jupyter-widgets/controls",
            "_view_module_version": "1.5.0",
            "_view_name": "HTMLView",
            "description": "",
            "description_tooltip": null,
            "layout": "IPY_MODEL_c8270986d28b40cfa736c528784869dd",
            "placeholder": "​",
            "style": "IPY_MODEL_59715f9538bf4b88bd8e9cdc6abd63a2",
            "value": "vocab.json: 100%"
          }
        },
        "c3009e9c17bc4c8b8db91a20413f1833": {
          "model_module": "@jupyter-widgets/controls",
          "model_name": "FloatProgressModel",
          "model_module_version": "1.5.0",
          "state": {
            "_dom_classes": [],
            "_model_module": "@jupyter-widgets/controls",
            "_model_module_version": "1.5.0",
            "_model_name": "FloatProgressModel",
            "_view_count": null,
            "_view_module": "@jupyter-widgets/controls",
            "_view_module_version": "1.5.0",
            "_view_name": "ProgressView",
            "bar_style": "success",
            "description": "",
            "description_tooltip": null,
            "layout": "IPY_MODEL_f72df1b978e34ff0b09036c3d63c98d1",
            "max": 898823,
            "min": 0,
            "orientation": "horizontal",
            "style": "IPY_MODEL_531ce0f01a584bbf94d7cdccfe946a99",
            "value": 898823
          }
        },
        "e7494121733b4b58878dec68aba46323": {
          "model_module": "@jupyter-widgets/controls",
          "model_name": "HTMLModel",
          "model_module_version": "1.5.0",
          "state": {
            "_dom_classes": [],
            "_model_module": "@jupyter-widgets/controls",
            "_model_module_version": "1.5.0",
            "_model_name": "HTMLModel",
            "_view_count": null,
            "_view_module": "@jupyter-widgets/controls",
            "_view_module_version": "1.5.0",
            "_view_name": "HTMLView",
            "description": "",
            "description_tooltip": null,
            "layout": "IPY_MODEL_eca81760d7f44af2b67dcbddc3e2872d",
            "placeholder": "​",
            "style": "IPY_MODEL_a65170edb4034978afd2e7acc290c7e3",
            "value": " 899k/899k [00:00&lt;00:00, 1.37MB/s]"
          }
        },
        "9ee62fbc405e4ba2836690b145c33bef": {
          "model_module": "@jupyter-widgets/base",
          "model_name": "LayoutModel",
          "model_module_version": "1.2.0",
          "state": {
            "_model_module": "@jupyter-widgets/base",
            "_model_module_version": "1.2.0",
            "_model_name": "LayoutModel",
            "_view_count": null,
            "_view_module": "@jupyter-widgets/base",
            "_view_module_version": "1.2.0",
            "_view_name": "LayoutView",
            "align_content": null,
            "align_items": null,
            "align_self": null,
            "border": null,
            "bottom": null,
            "display": null,
            "flex": null,
            "flex_flow": null,
            "grid_area": null,
            "grid_auto_columns": null,
            "grid_auto_flow": null,
            "grid_auto_rows": null,
            "grid_column": null,
            "grid_gap": null,
            "grid_row": null,
            "grid_template_areas": null,
            "grid_template_columns": null,
            "grid_template_rows": null,
            "height": null,
            "justify_content": null,
            "justify_items": null,
            "left": null,
            "margin": null,
            "max_height": null,
            "max_width": null,
            "min_height": null,
            "min_width": null,
            "object_fit": null,
            "object_position": null,
            "order": null,
            "overflow": null,
            "overflow_x": null,
            "overflow_y": null,
            "padding": null,
            "right": null,
            "top": null,
            "visibility": null,
            "width": null
          }
        },
        "c8270986d28b40cfa736c528784869dd": {
          "model_module": "@jupyter-widgets/base",
          "model_name": "LayoutModel",
          "model_module_version": "1.2.0",
          "state": {
            "_model_module": "@jupyter-widgets/base",
            "_model_module_version": "1.2.0",
            "_model_name": "LayoutModel",
            "_view_count": null,
            "_view_module": "@jupyter-widgets/base",
            "_view_module_version": "1.2.0",
            "_view_name": "LayoutView",
            "align_content": null,
            "align_items": null,
            "align_self": null,
            "border": null,
            "bottom": null,
            "display": null,
            "flex": null,
            "flex_flow": null,
            "grid_area": null,
            "grid_auto_columns": null,
            "grid_auto_flow": null,
            "grid_auto_rows": null,
            "grid_column": null,
            "grid_gap": null,
            "grid_row": null,
            "grid_template_areas": null,
            "grid_template_columns": null,
            "grid_template_rows": null,
            "height": null,
            "justify_content": null,
            "justify_items": null,
            "left": null,
            "margin": null,
            "max_height": null,
            "max_width": null,
            "min_height": null,
            "min_width": null,
            "object_fit": null,
            "object_position": null,
            "order": null,
            "overflow": null,
            "overflow_x": null,
            "overflow_y": null,
            "padding": null,
            "right": null,
            "top": null,
            "visibility": null,
            "width": null
          }
        },
        "59715f9538bf4b88bd8e9cdc6abd63a2": {
          "model_module": "@jupyter-widgets/controls",
          "model_name": "DescriptionStyleModel",
          "model_module_version": "1.5.0",
          "state": {
            "_model_module": "@jupyter-widgets/controls",
            "_model_module_version": "1.5.0",
            "_model_name": "DescriptionStyleModel",
            "_view_count": null,
            "_view_module": "@jupyter-widgets/base",
            "_view_module_version": "1.2.0",
            "_view_name": "StyleView",
            "description_width": ""
          }
        },
        "f72df1b978e34ff0b09036c3d63c98d1": {
          "model_module": "@jupyter-widgets/base",
          "model_name": "LayoutModel",
          "model_module_version": "1.2.0",
          "state": {
            "_model_module": "@jupyter-widgets/base",
            "_model_module_version": "1.2.0",
            "_model_name": "LayoutModel",
            "_view_count": null,
            "_view_module": "@jupyter-widgets/base",
            "_view_module_version": "1.2.0",
            "_view_name": "LayoutView",
            "align_content": null,
            "align_items": null,
            "align_self": null,
            "border": null,
            "bottom": null,
            "display": null,
            "flex": null,
            "flex_flow": null,
            "grid_area": null,
            "grid_auto_columns": null,
            "grid_auto_flow": null,
            "grid_auto_rows": null,
            "grid_column": null,
            "grid_gap": null,
            "grid_row": null,
            "grid_template_areas": null,
            "grid_template_columns": null,
            "grid_template_rows": null,
            "height": null,
            "justify_content": null,
            "justify_items": null,
            "left": null,
            "margin": null,
            "max_height": null,
            "max_width": null,
            "min_height": null,
            "min_width": null,
            "object_fit": null,
            "object_position": null,
            "order": null,
            "overflow": null,
            "overflow_x": null,
            "overflow_y": null,
            "padding": null,
            "right": null,
            "top": null,
            "visibility": null,
            "width": null
          }
        },
        "531ce0f01a584bbf94d7cdccfe946a99": {
          "model_module": "@jupyter-widgets/controls",
          "model_name": "ProgressStyleModel",
          "model_module_version": "1.5.0",
          "state": {
            "_model_module": "@jupyter-widgets/controls",
            "_model_module_version": "1.5.0",
            "_model_name": "ProgressStyleModel",
            "_view_count": null,
            "_view_module": "@jupyter-widgets/base",
            "_view_module_version": "1.2.0",
            "_view_name": "StyleView",
            "bar_color": null,
            "description_width": ""
          }
        },
        "eca81760d7f44af2b67dcbddc3e2872d": {
          "model_module": "@jupyter-widgets/base",
          "model_name": "LayoutModel",
          "model_module_version": "1.2.0",
          "state": {
            "_model_module": "@jupyter-widgets/base",
            "_model_module_version": "1.2.0",
            "_model_name": "LayoutModel",
            "_view_count": null,
            "_view_module": "@jupyter-widgets/base",
            "_view_module_version": "1.2.0",
            "_view_name": "LayoutView",
            "align_content": null,
            "align_items": null,
            "align_self": null,
            "border": null,
            "bottom": null,
            "display": null,
            "flex": null,
            "flex_flow": null,
            "grid_area": null,
            "grid_auto_columns": null,
            "grid_auto_flow": null,
            "grid_auto_rows": null,
            "grid_column": null,
            "grid_gap": null,
            "grid_row": null,
            "grid_template_areas": null,
            "grid_template_columns": null,
            "grid_template_rows": null,
            "height": null,
            "justify_content": null,
            "justify_items": null,
            "left": null,
            "margin": null,
            "max_height": null,
            "max_width": null,
            "min_height": null,
            "min_width": null,
            "object_fit": null,
            "object_position": null,
            "order": null,
            "overflow": null,
            "overflow_x": null,
            "overflow_y": null,
            "padding": null,
            "right": null,
            "top": null,
            "visibility": null,
            "width": null
          }
        },
        "a65170edb4034978afd2e7acc290c7e3": {
          "model_module": "@jupyter-widgets/controls",
          "model_name": "DescriptionStyleModel",
          "model_module_version": "1.5.0",
          "state": {
            "_model_module": "@jupyter-widgets/controls",
            "_model_module_version": "1.5.0",
            "_model_name": "DescriptionStyleModel",
            "_view_count": null,
            "_view_module": "@jupyter-widgets/base",
            "_view_module_version": "1.2.0",
            "_view_name": "StyleView",
            "description_width": ""
          }
        },
        "d49276d7e6af4d6b8ed930f9580888e5": {
          "model_module": "@jupyter-widgets/controls",
          "model_name": "HBoxModel",
          "model_module_version": "1.5.0",
          "state": {
            "_dom_classes": [],
            "_model_module": "@jupyter-widgets/controls",
            "_model_module_version": "1.5.0",
            "_model_name": "HBoxModel",
            "_view_count": null,
            "_view_module": "@jupyter-widgets/controls",
            "_view_module_version": "1.5.0",
            "_view_name": "HBoxView",
            "box_style": "",
            "children": [
              "IPY_MODEL_f99436a095904a2a89fde1063a5d197a",
              "IPY_MODEL_f76711dcef8e43c5b3a9099aad54c179",
              "IPY_MODEL_05377a7ca3a449afbaf65c92fbe9fd7d"
            ],
            "layout": "IPY_MODEL_ea2ded8d67dc405dae835f3d5472ec16"
          }
        },
        "f99436a095904a2a89fde1063a5d197a": {
          "model_module": "@jupyter-widgets/controls",
          "model_name": "HTMLModel",
          "model_module_version": "1.5.0",
          "state": {
            "_dom_classes": [],
            "_model_module": "@jupyter-widgets/controls",
            "_model_module_version": "1.5.0",
            "_model_name": "HTMLModel",
            "_view_count": null,
            "_view_module": "@jupyter-widgets/controls",
            "_view_module_version": "1.5.0",
            "_view_name": "HTMLView",
            "description": "",
            "description_tooltip": null,
            "layout": "IPY_MODEL_41e91f1e23e444239ce8c43f05f02fb2",
            "placeholder": "​",
            "style": "IPY_MODEL_7624affb58ef46df9b7da67662a26943",
            "value": "merges.txt: 100%"
          }
        },
        "f76711dcef8e43c5b3a9099aad54c179": {
          "model_module": "@jupyter-widgets/controls",
          "model_name": "FloatProgressModel",
          "model_module_version": "1.5.0",
          "state": {
            "_dom_classes": [],
            "_model_module": "@jupyter-widgets/controls",
            "_model_module_version": "1.5.0",
            "_model_name": "FloatProgressModel",
            "_view_count": null,
            "_view_module": "@jupyter-widgets/controls",
            "_view_module_version": "1.5.0",
            "_view_name": "ProgressView",
            "bar_style": "success",
            "description": "",
            "description_tooltip": null,
            "layout": "IPY_MODEL_5a4120421e94451d94a53da7077c5235",
            "max": 456318,
            "min": 0,
            "orientation": "horizontal",
            "style": "IPY_MODEL_e5eac111cf56415a94e694c1da07d760",
            "value": 456318
          }
        },
        "05377a7ca3a449afbaf65c92fbe9fd7d": {
          "model_module": "@jupyter-widgets/controls",
          "model_name": "HTMLModel",
          "model_module_version": "1.5.0",
          "state": {
            "_dom_classes": [],
            "_model_module": "@jupyter-widgets/controls",
            "_model_module_version": "1.5.0",
            "_model_name": "HTMLModel",
            "_view_count": null,
            "_view_module": "@jupyter-widgets/controls",
            "_view_module_version": "1.5.0",
            "_view_name": "HTMLView",
            "description": "",
            "description_tooltip": null,
            "layout": "IPY_MODEL_1382f2fd33df4a8eaef28fc173fd4c15",
            "placeholder": "​",
            "style": "IPY_MODEL_b4a0b375baa849f5b65ff9e2f25aa020",
            "value": " 456k/456k [00:00&lt;00:00, 1.92MB/s]"
          }
        },
        "ea2ded8d67dc405dae835f3d5472ec16": {
          "model_module": "@jupyter-widgets/base",
          "model_name": "LayoutModel",
          "model_module_version": "1.2.0",
          "state": {
            "_model_module": "@jupyter-widgets/base",
            "_model_module_version": "1.2.0",
            "_model_name": "LayoutModel",
            "_view_count": null,
            "_view_module": "@jupyter-widgets/base",
            "_view_module_version": "1.2.0",
            "_view_name": "LayoutView",
            "align_content": null,
            "align_items": null,
            "align_self": null,
            "border": null,
            "bottom": null,
            "display": null,
            "flex": null,
            "flex_flow": null,
            "grid_area": null,
            "grid_auto_columns": null,
            "grid_auto_flow": null,
            "grid_auto_rows": null,
            "grid_column": null,
            "grid_gap": null,
            "grid_row": null,
            "grid_template_areas": null,
            "grid_template_columns": null,
            "grid_template_rows": null,
            "height": null,
            "justify_content": null,
            "justify_items": null,
            "left": null,
            "margin": null,
            "max_height": null,
            "max_width": null,
            "min_height": null,
            "min_width": null,
            "object_fit": null,
            "object_position": null,
            "order": null,
            "overflow": null,
            "overflow_x": null,
            "overflow_y": null,
            "padding": null,
            "right": null,
            "top": null,
            "visibility": null,
            "width": null
          }
        },
        "41e91f1e23e444239ce8c43f05f02fb2": {
          "model_module": "@jupyter-widgets/base",
          "model_name": "LayoutModel",
          "model_module_version": "1.2.0",
          "state": {
            "_model_module": "@jupyter-widgets/base",
            "_model_module_version": "1.2.0",
            "_model_name": "LayoutModel",
            "_view_count": null,
            "_view_module": "@jupyter-widgets/base",
            "_view_module_version": "1.2.0",
            "_view_name": "LayoutView",
            "align_content": null,
            "align_items": null,
            "align_self": null,
            "border": null,
            "bottom": null,
            "display": null,
            "flex": null,
            "flex_flow": null,
            "grid_area": null,
            "grid_auto_columns": null,
            "grid_auto_flow": null,
            "grid_auto_rows": null,
            "grid_column": null,
            "grid_gap": null,
            "grid_row": null,
            "grid_template_areas": null,
            "grid_template_columns": null,
            "grid_template_rows": null,
            "height": null,
            "justify_content": null,
            "justify_items": null,
            "left": null,
            "margin": null,
            "max_height": null,
            "max_width": null,
            "min_height": null,
            "min_width": null,
            "object_fit": null,
            "object_position": null,
            "order": null,
            "overflow": null,
            "overflow_x": null,
            "overflow_y": null,
            "padding": null,
            "right": null,
            "top": null,
            "visibility": null,
            "width": null
          }
        },
        "7624affb58ef46df9b7da67662a26943": {
          "model_module": "@jupyter-widgets/controls",
          "model_name": "DescriptionStyleModel",
          "model_module_version": "1.5.0",
          "state": {
            "_model_module": "@jupyter-widgets/controls",
            "_model_module_version": "1.5.0",
            "_model_name": "DescriptionStyleModel",
            "_view_count": null,
            "_view_module": "@jupyter-widgets/base",
            "_view_module_version": "1.2.0",
            "_view_name": "StyleView",
            "description_width": ""
          }
        },
        "5a4120421e94451d94a53da7077c5235": {
          "model_module": "@jupyter-widgets/base",
          "model_name": "LayoutModel",
          "model_module_version": "1.2.0",
          "state": {
            "_model_module": "@jupyter-widgets/base",
            "_model_module_version": "1.2.0",
            "_model_name": "LayoutModel",
            "_view_count": null,
            "_view_module": "@jupyter-widgets/base",
            "_view_module_version": "1.2.0",
            "_view_name": "LayoutView",
            "align_content": null,
            "align_items": null,
            "align_self": null,
            "border": null,
            "bottom": null,
            "display": null,
            "flex": null,
            "flex_flow": null,
            "grid_area": null,
            "grid_auto_columns": null,
            "grid_auto_flow": null,
            "grid_auto_rows": null,
            "grid_column": null,
            "grid_gap": null,
            "grid_row": null,
            "grid_template_areas": null,
            "grid_template_columns": null,
            "grid_template_rows": null,
            "height": null,
            "justify_content": null,
            "justify_items": null,
            "left": null,
            "margin": null,
            "max_height": null,
            "max_width": null,
            "min_height": null,
            "min_width": null,
            "object_fit": null,
            "object_position": null,
            "order": null,
            "overflow": null,
            "overflow_x": null,
            "overflow_y": null,
            "padding": null,
            "right": null,
            "top": null,
            "visibility": null,
            "width": null
          }
        },
        "e5eac111cf56415a94e694c1da07d760": {
          "model_module": "@jupyter-widgets/controls",
          "model_name": "ProgressStyleModel",
          "model_module_version": "1.5.0",
          "state": {
            "_model_module": "@jupyter-widgets/controls",
            "_model_module_version": "1.5.0",
            "_model_name": "ProgressStyleModel",
            "_view_count": null,
            "_view_module": "@jupyter-widgets/base",
            "_view_module_version": "1.2.0",
            "_view_name": "StyleView",
            "bar_color": null,
            "description_width": ""
          }
        },
        "1382f2fd33df4a8eaef28fc173fd4c15": {
          "model_module": "@jupyter-widgets/base",
          "model_name": "LayoutModel",
          "model_module_version": "1.2.0",
          "state": {
            "_model_module": "@jupyter-widgets/base",
            "_model_module_version": "1.2.0",
            "_model_name": "LayoutModel",
            "_view_count": null,
            "_view_module": "@jupyter-widgets/base",
            "_view_module_version": "1.2.0",
            "_view_name": "LayoutView",
            "align_content": null,
            "align_items": null,
            "align_self": null,
            "border": null,
            "bottom": null,
            "display": null,
            "flex": null,
            "flex_flow": null,
            "grid_area": null,
            "grid_auto_columns": null,
            "grid_auto_flow": null,
            "grid_auto_rows": null,
            "grid_column": null,
            "grid_gap": null,
            "grid_row": null,
            "grid_template_areas": null,
            "grid_template_columns": null,
            "grid_template_rows": null,
            "height": null,
            "justify_content": null,
            "justify_items": null,
            "left": null,
            "margin": null,
            "max_height": null,
            "max_width": null,
            "min_height": null,
            "min_width": null,
            "object_fit": null,
            "object_position": null,
            "order": null,
            "overflow": null,
            "overflow_x": null,
            "overflow_y": null,
            "padding": null,
            "right": null,
            "top": null,
            "visibility": null,
            "width": null
          }
        },
        "b4a0b375baa849f5b65ff9e2f25aa020": {
          "model_module": "@jupyter-widgets/controls",
          "model_name": "DescriptionStyleModel",
          "model_module_version": "1.5.0",
          "state": {
            "_model_module": "@jupyter-widgets/controls",
            "_model_module_version": "1.5.0",
            "_model_name": "DescriptionStyleModel",
            "_view_count": null,
            "_view_module": "@jupyter-widgets/base",
            "_view_module_version": "1.2.0",
            "_view_name": "StyleView",
            "description_width": ""
          }
        }
      }
    }
  },
  "nbformat_minor": 0,
  "nbformat": 4,
  "cells": [
    {
      "cell_type": "markdown",
      "metadata": {
        "id": "view-in-github",
        "colab_type": "text"
      },
      "source": [
        "<a href=\"https://colab.research.google.com/github/HamorHam/IAT_360-Fine-tune-NLP-model/blob/main/FinalProject.ipynb\" target=\"_parent\"><img src=\"https://colab.research.google.com/assets/colab-badge.svg\" alt=\"Open In Colab\"/></a>"
      ]
    },
    {
      "cell_type": "markdown",
      "source": [
        "# Introduction\n",
        "\n",
        "Project Introduction: Sentiment Analysis Fine-Tuning on Tweet Data\n",
        "\n",
        "This project focuses on fine-tuning the pre-trained cardiffnlp/twitter-roberta-base model using a custom dataset for sentiment analysis."
      ],
      "metadata": {
        "id": "u9LBtcg76NbX"
      }
    },
    {
      "cell_type": "markdown",
      "source": [
        "# Step 1: Load Custom Dataset"
      ],
      "metadata": {
        "id": "7Noh5huE6NbY"
      }
    },
    {
      "cell_type": "code",
      "source": [
        "# Link to google drive\n",
        "from google.colab import drive\n",
        "\n",
        "drive.mount('/content/gdrive')\n"
      ],
      "metadata": {
        "execution": {
          "iopub.status.busy": "2023-05-31T00:54:53.614563Z",
          "iopub.execute_input": "2023-05-31T00:54:53.615306Z",
          "iopub.status.idle": "2023-05-31T00:55:11.155835Z",
          "shell.execute_reply.started": "2023-05-31T00:54:53.615214Z",
          "shell.execute_reply": "2023-05-31T00:55:11.154404Z"
        },
        "trusted": true,
        "colab": {
          "base_uri": "https://localhost:8080/"
        },
        "id": "OtlNVKJR6NbY",
        "outputId": "5d66c2b8-78d7-4784-bd7d-bbd6b0b35b99"
      },
      "execution_count": 1,
      "outputs": [
        {
          "output_type": "stream",
          "name": "stdout",
          "text": [
            "Mounted at /content/gdrive\n"
          ]
        }
      ]
    },
    {
      "cell_type": "markdown",
      "source": [
        "##Load the dataset from google drive into a compatible format"
      ],
      "metadata": {
        "id": "pUaTaFc2cIog"
      }
    },
    {
      "cell_type": "code",
      "source": [
        "import pandas as pd\n",
        "\n",
        "def load_dataset(file_path):\n",
        "    data = pd.read_csv(file_path, sep=';', header=None, names=['text', 'label'])\n",
        "    return data\n",
        "\n",
        "train_data = load_dataset(\"/content/gdrive/MyDrive/IAT/IAT_360/FInalProject/train.txt\")\n",
        "val_data = load_dataset(\"/content/gdrive/MyDrive/IAT/IAT_360/FInalProject/val.txt\")\n",
        "test_data = load_dataset(\"/content/gdrive/MyDrive/IAT/IAT_360/FInalProject/test.txt\")"
      ],
      "metadata": {
        "execution": {
          "iopub.status.busy": "2023-05-31T00:55:11.159612Z",
          "iopub.execute_input": "2023-05-31T00:55:11.161147Z",
          "iopub.status.idle": "2023-05-31T00:55:15.987415Z",
          "shell.execute_reply.started": "2023-05-31T00:55:11.161100Z",
          "shell.execute_reply": "2023-05-31T00:55:15.985957Z"
        },
        "trusted": true,
        "id": "sjTwjo6u6NbY"
      },
      "execution_count": null,
      "outputs": []
    },
    {
      "cell_type": "markdown",
      "source": [
        "# Step 2: Map Labels"
      ],
      "metadata": {
        "id": "9AYGJyIo6NbZ"
      }
    },
    {
      "cell_type": "markdown",
      "source": [
        "## Map the dataset's emotion labels to integers"
      ],
      "metadata": {
        "id": "NtxPz74d6NbZ"
      }
    },
    {
      "cell_type": "code",
      "source": [
        "label_mapping = {\n",
        "    'sadness': 0,\n",
        "    'joy': 1,\n",
        "    'fear': 2,\n",
        "    'anger': 3,\n",
        "    'surprise': 4,\n",
        "    'love': 5\n",
        "}\n",
        "\n",
        "train_data['label'] = train_data['label'].map(label_mapping)\n",
        "val_data['label'] = val_data['label'].map(label_mapping)\n",
        "test_data['label'] = test_data['label'].map(label_mapping)"
      ],
      "metadata": {
        "execution": {
          "iopub.status.busy": "2023-05-31T00:55:15.988973Z",
          "iopub.execute_input": "2023-05-31T00:55:15.989348Z",
          "iopub.status.idle": "2023-05-31T00:55:58.886252Z",
          "shell.execute_reply.started": "2023-05-31T00:55:15.989309Z",
          "shell.execute_reply": "2023-05-31T00:55:58.885164Z"
        },
        "trusted": true,
        "id": "_UV79XFC6NbZ"
      },
      "execution_count": null,
      "outputs": []
    },
    {
      "cell_type": "markdown",
      "source": [
        "# Step 3: data preprocessing"
      ],
      "metadata": {
        "id": "gvth84vbhovM"
      }
    },
    {
      "cell_type": "markdown",
      "source": [
        "## Visualize the data balance before tokenizing the dataset"
      ],
      "metadata": {
        "id": "aJw7VDtG6NbZ"
      }
    },
    {
      "cell_type": "code",
      "source": [
        "import matplotlib.pyplot as plt\n",
        "import numpy as np\n",
        "\n",
        "def plot_label_distribution(data, dataset_name):\n",
        "    # Ensure all labels are included even if some have 0 instances\n",
        "    label_counts = data['label'].value_counts().reindex(range(6), fill_value=0)\n",
        "    labels = ['sadness', 'joy', 'fear', 'anger', 'surprise', 'love']\n",
        "\n",
        "    plt.figure(figsize=(8, 5))\n",
        "    plt.bar(labels, label_counts)\n",
        "    plt.title(f'Label Distribution in {dataset_name} Dataset')\n",
        "    plt.xlabel('Labels')\n",
        "    plt.ylabel('Count')\n",
        "    plt.xticks(rotation=45)\n",
        "    plt.grid(axis='y', linestyle='--', alpha=0.7)\n",
        "    plt.show()\n",
        "\n",
        "# Plot for each dataset\n",
        "plot_label_distribution(train_data, 'Train')\n",
        "plot_label_distribution(val_data, 'Validation')\n",
        "plot_label_distribution(test_data, 'Test')\n"
      ],
      "metadata": {
        "execution": {
          "iopub.status.busy": "2023-05-31T00:55:58.889607Z",
          "iopub.execute_input": "2023-05-31T00:55:58.892334Z",
          "iopub.status.idle": "2023-05-31T00:55:58.918777Z",
          "shell.execute_reply.started": "2023-05-31T00:55:58.892274Z",
          "shell.execute_reply": "2023-05-31T00:55:58.917782Z"
        },
        "trusted": true,
        "colab": {
          "base_uri": "https://localhost:8080/",
          "height": 1000
        },
        "id": "qhX05VjE6NbZ",
        "outputId": "2c06477c-3723-4db2-d4ad-9930ebd163f5"
      },
      "execution_count": null,
      "outputs": [
        {
          "output_type": "display_data",
          "data": {
            "text/plain": [
              "<Figure size 800x500 with 1 Axes>"
            ],
            "image/png": "[encoded data removed]"
          },
          "metadata": {}
        },
        {
          "output_type": "display_data",
          "data": {
            "text/plain": [
              "<Figure size 800x500 with 1 Axes>"
            ],
            "image/png": "[encoded data removed]"
          },
          "metadata": {}
        },
        {
          "output_type": "display_data",
          "data": {
            "text/plain": [
              "<Figure size 800x500 with 1 Axes>"
            ],
            "image/png": "[encoded data removed]"
          },
          "metadata": {}
        }
      ]
    },
    {
      "cell_type": "markdown",
      "source": [
        "As the chart shows the data set is not balanced. In order to balance the datasets using undersampling, we can reduce the number of samples for overrepresented classes to match the size of the smallest class."
      ],
      "metadata": {
        "id": "9rieA-Y-gw5j"
      }
    },
    {
      "cell_type": "code",
      "source": [
        "!pip install imbalanced-learn\n"
      ],
      "metadata": {
        "execution": {
          "iopub.status.busy": "2023-05-31T00:55:58.920413Z",
          "iopub.execute_input": "2023-05-31T00:55:58.921057Z",
          "iopub.status.idle": "2023-05-31T00:55:58.929127Z",
          "shell.execute_reply.started": "2023-05-31T00:55:58.921013Z",
          "shell.execute_reply": "2023-05-31T00:55:58.928032Z"
        },
        "trusted": true,
        "colab": {
          "base_uri": "https://localhost:8080/"
        },
        "id": "lmwBXU6c6Nba",
        "outputId": "f6f87e9f-2405-4991-8196-ae94d4a54dfd"
      },
      "execution_count": null,
      "outputs": [
        {
          "output_type": "stream",
          "name": "stdout",
          "text": [
            "Requirement already satisfied: imbalanced-learn in /usr/local/lib/python3.10/dist-packages (0.12.4)\n",
            "Requirement already satisfied: numpy>=1.17.3 in /usr/local/lib/python3.10/dist-packages (from imbalanced-learn) (1.26.4)\n",
            "Requirement already satisfied: scipy>=1.5.0 in /usr/local/lib/python3.10/dist-packages (from imbalanced-learn) (1.13.1)\n",
            "Requirement already satisfied: scikit-learn>=1.0.2 in /usr/local/lib/python3.10/dist-packages (from imbalanced-learn) (1.5.2)\n",
            "Requirement already satisfied: joblib>=1.1.1 in /usr/local/lib/python3.10/dist-packages (from imbalanced-learn) (1.4.2)\n",
            "Requirement already satisfied: threadpoolctl>=2.0.0 in /usr/local/lib/python3.10/dist-packages (from imbalanced-learn) (3.5.0)\n"
          ]
        }
      ]
    },
    {
      "cell_type": "code",
      "source": [
        "from imblearn.under_sampling import RandomUnderSampler\n",
        "from collections import Counter\n",
        "\n",
        "def undersample_data(data):\n",
        "    \"\"\"\n",
        "    Balances the dataset by undersampling the overrepresented classes.\n",
        "\n",
        "    Args:\n",
        "        data: Pandas DataFrame containing 'text' and 'label' columns.\n",
        "\n",
        "    Returns:\n",
        "        Balanced Pandas DataFrame.\n",
        "    \"\"\"\n",
        "    # Separate features and labels\n",
        "    X = data['text'].values.reshape(-1, 1)  # Reshape to 2D array for sampler\n",
        "    y = data['label']\n",
        "\n",
        "    # Initialize RandomUnderSampler\n",
        "    undersampler = RandomUnderSampler(random_state=42)\n",
        "    X_resampled, y_resampled = undersampler.fit_resample(X, y)\n",
        "\n",
        "    # Recreate a balanced DataFrame\n",
        "    balanced_data = pd.DataFrame({\n",
        "        'text': X_resampled.flatten(),\n",
        "        'label': y_resampled\n",
        "    })\n",
        "\n",
        "    return balanced_data\n",
        "\n",
        "# Apply undersampling to each dataset\n",
        "train_data_balanced = undersample_data(train_data)\n",
        "val_data_balanced = undersample_data(val_data)\n",
        "test_data_balanced = undersample_data(test_data)\n",
        "\n",
        "# Print class distribution before and after\n",
        "print(\"Before Undersampling:\")\n",
        "print(\"Train:\", Counter(train_data['label']))\n",
        "print(\"Validation:\", Counter(val_data['label']))\n",
        "print(\"Test:\", Counter(test_data['label']))\n",
        "\n",
        "print(\"\\nAfter Undersampling:\")\n",
        "print(\"Train:\", Counter(train_data_balanced['label']))\n",
        "print(\"Validation:\", Counter(val_data_balanced['label']))\n",
        "print(\"Test:\", Counter(test_data_balanced['label']))\n",
        "\n",
        "# Plot for each dataset\n",
        "plot_label_distribution(train_data_balanced, 'Train')\n",
        "plot_label_distribution(val_data_balanced, 'Validation')\n",
        "plot_label_distribution(test_data_balanced, 'Test')"
      ],
      "metadata": {
        "execution": {
          "iopub.status.busy": "2023-05-31T00:55:58.930960Z",
          "iopub.execute_input": "2023-05-31T00:55:58.931682Z",
          "iopub.status.idle": "2023-05-31T00:55:58.943047Z",
          "shell.execute_reply.started": "2023-05-31T00:55:58.931643Z",
          "shell.execute_reply": "2023-05-31T00:55:58.941774Z"
        },
        "trusted": true,
        "colab": {
          "base_uri": "https://localhost:8080/",
          "height": 1000
        },
        "id": "ckEa_4vQ6Nba",
        "outputId": "45af0227-a8b6-40ec-bbbe-8ae995edbb65"
      },
      "execution_count": null,
      "outputs": [
        {
          "output_type": "stream",
          "name": "stdout",
          "text": [
            "Before Undersampling:\n",
            "Train: Counter({1: 5362, 0: 4666, 3: 2159, 2: 1937, 5: 1304, 4: 572})\n",
            "Validation: Counter({1: 704, 0: 550, 3: 275, 2: 212, 5: 178, 4: 81})\n",
            "Test: Counter({1: 695, 0: 581, 3: 275, 2: 224, 5: 159, 4: 66})\n",
            "\n",
            "After Undersampling:\n",
            "Train: Counter({0: 572, 1: 572, 2: 572, 3: 572, 4: 572, 5: 572})\n",
            "Validation: Counter({0: 81, 1: 81, 2: 81, 3: 81, 4: 81, 5: 81})\n",
            "Test: Counter({0: 66, 1: 66, 2: 66, 3: 66, 4: 66, 5: 66})\n"
          ]
        },
        {
          "output_type": "display_data",
          "data": {
            "text/plain": [
              "<Figure size 800x500 with 1 Axes>"
            ],
            "image/png": "[encoded data removed]"
          },
          "metadata": {}
        },
        {
          "output_type": "display_data",
          "data": {
            "text/plain": [
              "<Figure size 800x500 with 1 Axes>"
            ],
            "image/png": "[encoded data removed]"
          },
          "metadata": {}
        },
        {
          "output_type": "display_data",
          "data": {
            "text/plain": [
              "<Figure size 800x500 with 1 Axes>"
            ],
            "image/png": "[encoded data removed]"
          },
          "metadata": {}
        }
      ]
    },
    {
      "cell_type": "markdown",
      "source": [
        "# Step 4: Tokenize the Dataset"
      ],
      "metadata": {
        "id": "E-AIsm5z6Nba"
      }
    },
    {
      "cell_type": "markdown",
      "source": [
        "Use the tokenizer from the cardiffnlp/twitter-roberta-base model to tokenize the text data."
      ],
      "metadata": {
        "id": "xEeBmTu8h-iJ"
      }
    },
    {
      "cell_type": "code",
      "source": [
        "from transformers import AutoTokenizer\n",
        "\n",
        "tokenizer = AutoTokenizer.from_pretrained(\"cardiffnlp/twitter-roberta-base\")\n",
        "\n",
        "def tokenize_data(data):\n",
        "    return tokenizer(\n",
        "        data['text'].tolist(),\n",
        "        padding=True,\n",
        "        truncation=True,\n",
        "        max_length=128,\n",
        "        return_tensors=\"pt\"\n",
        "    )\n",
        "\n",
        "train_encodings = tokenize_data(train_data_balanced)\n",
        "val_encodings = tokenize_data(val_data_balanced)\n",
        "test_encodings = tokenize_data(test_data_balanced)"
      ],
      "metadata": {
        "execution": {
          "iopub.status.busy": "2023-05-31T00:55:58.944656Z",
          "iopub.execute_input": "2023-05-31T00:55:58.945156Z",
          "iopub.status.idle": "2023-05-31T00:56:00.757127Z",
          "shell.execute_reply.started": "2023-05-31T00:55:58.945117Z",
          "shell.execute_reply": "2023-05-31T00:56:00.755968Z"
        },
        "trusted": true,
        "colab": {
          "base_uri": "https://localhost:8080/",
          "height": 113,
          "referenced_widgets": [
            "1f9050dd91494ed0aca817b25e4b97a4",
            "7ac042c8c72f4cf4888ec6b1edd52bdc",
            "943c68a860744b9c8ea50a33e679c4f3",
            "21adfa4de5964d46901e22a751a5e339",
            "fe4253eb5fe44554ac51b7467113e6fa",
            "8e4857a1f54e4ccd846726572b554c7a",
            "e0b0d931635e4d1b92c8b3895eb37080",
            "831887d9fbe44ac8954ff4a462328f86",
            "60e9e5766d9a47fdb227c3b9994b9a50",
            "5d0465b728d449609563e7a36d578e09",
            "74036055bc6e4a56bd6e9aa3573ee2b5",
            "15e3e548f13040a28789ae75909bb469",
            "2685b6aa4d8f41d89a0dbe84426b94cc",
            "c3009e9c17bc4c8b8db91a20413f1833",
            "e7494121733b4b58878dec68aba46323",
            "9ee62fbc405e4ba2836690b145c33bef",
            "c8270986d28b40cfa736c528784869dd",
            "59715f9538bf4b88bd8e9cdc6abd63a2",
            "f72df1b978e34ff0b09036c3d63c98d1",
            "531ce0f01a584bbf94d7cdccfe946a99",
            "eca81760d7f44af2b67dcbddc3e2872d",
            "a65170edb4034978afd2e7acc290c7e3",
            "d49276d7e6af4d6b8ed930f9580888e5",
            "f99436a095904a2a89fde1063a5d197a",
            "f76711dcef8e43c5b3a9099aad54c179",
            "05377a7ca3a449afbaf65c92fbe9fd7d",
            "ea2ded8d67dc405dae835f3d5472ec16",
            "41e91f1e23e444239ce8c43f05f02fb2",
            "7624affb58ef46df9b7da67662a26943",
            "5a4120421e94451d94a53da7077c5235",
            "e5eac111cf56415a94e694c1da07d760",
            "1382f2fd33df4a8eaef28fc173fd4c15",
            "b4a0b375baa849f5b65ff9e2f25aa020"
          ]
        },
        "id": "QVM_DdZx6Nba",
        "outputId": "aa372d52-90c6-414f-fe85-18dbb8c8b39d"
      },
      "execution_count": null,
      "outputs": [
        {
          "output_type": "display_data",
          "data": {
            "text/plain": [
              "config.json:   0%|          | 0.00/565 [00:00<?, ?B/s]"
            ],
            "application/vnd.jupyter.widget-view+json": {
              "version_major": 2,
              "version_minor": 0,
              "model_id": "1f9050dd91494ed0aca817b25e4b97a4"
            }
          },
          "metadata": {}
        },
        {
          "output_type": "display_data",
          "data": {
            "text/plain": [
              "vocab.json:   0%|          | 0.00/899k [00:00<?, ?B/s]"
            ],
            "application/vnd.jupyter.widget-view+json": {
              "version_major": 2,
              "version_minor": 0,
              "model_id": "15e3e548f13040a28789ae75909bb469"
            }
          },
          "metadata": {}
        },
        {
          "output_type": "display_data",
          "data": {
            "text/plain": [
              "merges.txt:   0%|          | 0.00/456k [00:00<?, ?B/s]"
            ],
            "application/vnd.jupyter.widget-view+json": {
              "version_major": 2,
              "version_minor": 0,
              "model_id": "d49276d7e6af4d6b8ed930f9580888e5"
            }
          },
          "metadata": {}
        }
      ]
    },
    {
      "cell_type": "markdown",
      "source": [
        "#Step 5: Prepare the Dataset for PyTorch"
      ],
      "metadata": {
        "id": "IGQrVD9Cjzm9"
      }
    },
    {
      "cell_type": "code",
      "source": [
        "import torch\n",
        "\n",
        "class CustomDataset(torch.utils.data.Dataset):\n",
        "    def __init__(self, encodings, labels):\n",
        "        \"\"\"\n",
        "        Args:\n",
        "            encodings: Tokenized inputs (input_ids, attention_mask).\n",
        "            labels: List or tensor of corresponding labels.\n",
        "        \"\"\"\n",
        "        self.encodings = encodings\n",
        "        self.labels = labels\n",
        "\n",
        "    def __len__(self):\n",
        "        # Returns the number of samples\n",
        "        return len(self.labels)\n",
        "\n",
        "    def __getitem__(self, idx):\n",
        "        \"\"\"\n",
        "        Fetches a single item by index.\n",
        "        Args:\n",
        "            idx: Index of the sample.\n",
        "        Returns:\n",
        "            Dictionary containing input_ids, attention_mask, and labels.\n",
        "        \"\"\"\n",
        "        item = {key: torch.tensor(val[idx]) for key, val in self.encodings.items()}\n",
        "        item['labels'] = torch.tensor(self.labels[idx], dtype=torch.long)\n",
        "        return item\n",
        "train_dataset = CustomDataset(train_encodings, train_data_balanced['label'].tolist())\n",
        "val_dataset = CustomDataset(val_encodings, val_data_balanced['label'].tolist())\n",
        "test_dataset = CustomDataset(test_encodings, test_data_balanced['label'].tolist())\n",
        "\n",
        "# Check dataset size\n",
        "print(f\"Train Dataset Size: {len(train_dataset)}\")\n",
        "print(f\"Validation Dataset Size: {len(val_dataset)}\")\n",
        "print(f\"Test Dataset Size: {len(test_dataset)}\")\n"
      ],
      "metadata": {
        "execution": {
          "iopub.status.busy": "2023-05-31T00:56:00.758819Z",
          "iopub.execute_input": "2023-05-31T00:56:00.759472Z",
          "iopub.status.idle": "2023-05-31T00:56:47.564803Z",
          "shell.execute_reply.started": "2023-05-31T00:56:00.759432Z",
          "shell.execute_reply": "2023-05-31T00:56:47.563690Z"
        },
        "trusted": true,
        "colab": {
          "base_uri": "https://localhost:8080/"
        },
        "id": "UJs4EM6_6Nba",
        "outputId": "b840cdb5-2740-4f67-bbb1-d88b57721179"
      },
      "execution_count": null,
      "outputs": [
        {
          "output_type": "stream",
          "name": "stdout",
          "text": [
            "Train Dataset Size: 3432\n",
            "Validation Dataset Size: 486\n",
            "Test Dataset Size: 396\n"
          ]
        }
      ]
    },
    {
      "cell_type": "markdown",
      "source": [
        "# Step 6: Fine-Tune the Model"
      ],
      "metadata": {
        "id": "ruQcvQDs6Nba"
      }
    },
    {
      "cell_type": "code",
      "source": [
        "from transformers import AutoModelForSequenceClassification, Trainer, TrainingArguments\n",
        "\n",
        "model = AutoModelForSequenceClassification.from_pretrained(\n",
        "    \"cardiffnlp/twitter-roberta-base\",\n",
        "    num_labels=len(label_mapping)\n",
        ")\n",
        "\n",
        "training_args = TrainingArguments(\n",
        "    output_dir=\"./results\",\n",
        "    evaluation_strategy=\"epoch\",\n",
        "    learning_rate=2e-5,\n",
        "    per_device_train_batch_size=16,\n",
        "    per_device_eval_batch_size=16,\n",
        "    num_train_epochs=10,\n",
        "    weight_decay=0.01,\n",
        "    logging_dir=\"./logs\",\n",
        "    logging_steps=10,\n",
        ")\n",
        "\n",
        "trainer = Trainer(\n",
        "    model=model,\n",
        "    args=training_args,\n",
        "    train_dataset=train_dataset,\n",
        "    eval_dataset=val_dataset,\n",
        "    tokenizer=tokenizer\n",
        ")\n",
        "\n",
        "trainer.train()"
      ],
      "metadata": {
        "execution": {
          "iopub.status.busy": "2023-05-31T00:56:47.566377Z",
          "iopub.execute_input": "2023-05-31T00:56:47.567217Z",
          "iopub.status.idle": "2023-05-31T00:56:57.590728Z",
          "shell.execute_reply.started": "2023-05-31T00:56:47.567169Z",
          "shell.execute_reply": "2023-05-31T00:56:57.589657Z"
        },
        "trusted": true,
        "colab": {
          "base_uri": "https://localhost:8080/",
          "height": 719
        },
        "id": "m6nLLwZT6Nba",
        "outputId": "623064c3-69fc-414d-8d06-7f262f99ac48"
      },
      "execution_count": null,
      "outputs": [
        {
          "output_type": "stream",
          "name": "stderr",
          "text": [
            "Some weights of RobertaForSequenceClassification were not initialized from the model checkpoint at cardiffnlp/twitter-roberta-base and are newly initialized: ['classifier.dense.bias', 'classifier.dense.weight', 'classifier.out_proj.bias', 'classifier.out_proj.weight']\n",
            "You should probably TRAIN this model on a down-stream task to be able to use it for predictions and inference.\n",
            "/usr/local/lib/python3.10/dist-packages/transformers/training_args.py:1568: FutureWarning: `evaluation_strategy` is deprecated and will be removed in version 4.46 of 🤗 Transformers. Use `eval_strategy` instead\n",
            "  warnings.warn(\n",
            "<ipython-input-38-ca351cba5ded>:20: FutureWarning: `tokenizer` is deprecated and will be removed in version 5.0.0 for `Trainer.__init__`. Use `processing_class` instead.\n",
            "  trainer = Trainer(\n",
            "<ipython-input-19-dad45323e1ef>:25: UserWarning: To copy construct from a tensor, it is recommended to use sourceTensor.clone().detach() or sourceTensor.clone().detach().requires_grad_(True), rather than torch.tensor(sourceTensor).\n",
            "  item = {key: torch.tensor(val[idx]) for key, val in self.encodings.items()}\n"
          ]
        },
        {
          "output_type": "display_data",
          "data": {
            "text/plain": [
              "<IPython.core.display.HTML object>"
            ],
            "text/html": [
              "\n",
              "    <div>\n",
              "      \n",
              "      <progress value='2150' max='2150' style='width:300px; height:20px; vertical-align: middle;'></progress>\n",
              "      [2150/2150 09:24, Epoch 10/10]\n",
              "    </div>\n",
              "    <table border=\"1\" class=\"dataframe\">\n",
              "  <thead>\n",
              " <tr style=\"text-align: left;\">\n",
              "      <th>Epoch</th>\n",
              "      <th>Training Loss</th>\n",
              "      <th>Validation Loss</th>\n",
              "    </tr>\n",
              "  </thead>\n",
              "  <tbody>\n",
              "    <tr>\n",
              "      <td>1</td>\n",
              "      <td>0.523800</td>\n",
              "      <td>0.418028</td>\n",
              "    </tr>\n",
              "    <tr>\n",
              "      <td>2</td>\n",
              "      <td>0.233300</td>\n",
              "      <td>0.293672</td>\n",
              "    </tr>\n",
              "    <tr>\n",
              "      <td>3</td>\n",
              "      <td>0.146200</td>\n",
              "      <td>0.335831</td>\n",
              "    </tr>\n",
              "    <tr>\n",
              "      <td>4</td>\n",
              "      <td>0.152500</td>\n",
              "      <td>0.301676</td>\n",
              "    </tr>\n",
              "    <tr>\n",
              "      <td>5</td>\n",
              "      <td>0.057300</td>\n",
              "      <td>0.301211</td>\n",
              "    </tr>\n",
              "    <tr>\n",
              "      <td>6</td>\n",
              "      <td>0.100900</td>\n",
              "      <td>0.348669</td>\n",
              "    </tr>\n",
              "    <tr>\n",
              "      <td>7</td>\n",
              "      <td>0.065200</td>\n",
              "      <td>0.311522</td>\n",
              "    </tr>\n",
              "    <tr>\n",
              "      <td>8</td>\n",
              "      <td>0.038400</td>\n",
              "      <td>0.336524</td>\n",
              "    </tr>\n",
              "    <tr>\n",
              "      <td>9</td>\n",
              "      <td>0.014000</td>\n",
              "      <td>0.374977</td>\n",
              "    </tr>\n",
              "    <tr>\n",
              "      <td>10</td>\n",
              "      <td>0.015000</td>\n",
              "      <td>0.362719</td>\n",
              "    </tr>\n",
              "  </tbody>\n",
              "</table><p>"
            ]
          },
          "metadata": {}
        },
        {
          "output_type": "stream",
          "name": "stderr",
          "text": [
            "<ipython-input-19-dad45323e1ef>:25: UserWarning: To copy construct from a tensor, it is recommended to use sourceTensor.clone().detach() or sourceTensor.clone().detach().requires_grad_(True), rather than torch.tensor(sourceTensor).\n",
            "  item = {key: torch.tensor(val[idx]) for key, val in self.encodings.items()}\n",
            "<ipython-input-19-dad45323e1ef>:25: UserWarning: To copy construct from a tensor, it is recommended to use sourceTensor.clone().detach() or sourceTensor.clone().detach().requires_grad_(True), rather than torch.tensor(sourceTensor).\n",
            "  item = {key: torch.tensor(val[idx]) for key, val in self.encodings.items()}\n",
            "<ipython-input-19-dad45323e1ef>:25: UserWarning: To copy construct from a tensor, it is recommended to use sourceTensor.clone().detach() or sourceTensor.clone().detach().requires_grad_(True), rather than torch.tensor(sourceTensor).\n",
            "  item = {key: torch.tensor(val[idx]) for key, val in self.encodings.items()}\n",
            "<ipython-input-19-dad45323e1ef>:25: UserWarning: To copy construct from a tensor, it is recommended to use sourceTensor.clone().detach() or sourceTensor.clone().detach().requires_grad_(True), rather than torch.tensor(sourceTensor).\n",
            "  item = {key: torch.tensor(val[idx]) for key, val in self.encodings.items()}\n",
            "<ipython-input-19-dad45323e1ef>:25: UserWarning: To copy construct from a tensor, it is recommended to use sourceTensor.clone().detach() or sourceTensor.clone().detach().requires_grad_(True), rather than torch.tensor(sourceTensor).\n",
            "  item = {key: torch.tensor(val[idx]) for key, val in self.encodings.items()}\n"
          ]
        },
        {
          "output_type": "execute_result",
          "data": {
            "text/plain": [
              "TrainOutput(global_step=2150, training_loss=0.21638200644403696, metrics={'train_runtime': 565.035, 'train_samples_per_second': 60.74, 'train_steps_per_second': 3.805, 'total_flos': 1252248040105920.0, 'train_loss': 0.21638200644403696, 'epoch': 10.0})"
            ]
          },
          "metadata": {},
          "execution_count": 38
        }
      ]
    },
    {
      "cell_type": "markdown",
      "source": [
        "# Step 7: Evaluate the Model"
      ],
      "metadata": {
        "id": "N87ZQ-a96Nba"
      }
    },
    {
      "cell_type": "code",
      "source": [
        "!pip install scikit-learn\n",
        "#Define a function that computes accuracy, F1 score, precision, and recall using scikit-learn.\n",
        "from sklearn.metrics import accuracy_score, f1_score, precision_score, recall_score\n",
        "from transformers import Trainer\n",
        "from sklearn.metrics import confusion_matrix, ConfusionMatrixDisplay\n",
        "import matplotlib.pyplot as plt\n",
        "\n",
        "def compute_metrics(eval_pred):\n",
        "    logits, labels = eval_pred\n",
        "    predictions = logits.argmax(axis=-1)  # Get the class with the highest logit\n",
        "    accuracy = accuracy_score(labels, predictions)\n",
        "    f1 = f1_score(labels, predictions, average=\"weighted\")  # Weighted F1 for imbalanced datasets\n",
        "    precision = precision_score(labels, predictions, average=\"weighted\")\n",
        "    recall = recall_score(labels, predictions, average=\"weighted\")\n",
        "    return {\n",
        "        \"accuracy\": accuracy,\n",
        "        \"f1\": f1,\n",
        "        \"precision\": precision,\n",
        "        \"recall\": recall,\n",
        "    }\n",
        "#Pass the custom metrics function to the Trainer.\n",
        "trainer = Trainer(\n",
        "    model=model,\n",
        "    args=training_args,\n",
        "    train_dataset=train_dataset,\n",
        "    eval_dataset=val_dataset,\n",
        "    tokenizer=tokenizer,\n",
        "    compute_metrics=compute_metrics\n",
        ")\n",
        "\n",
        "#SHow the evaluation\n",
        "results = trainer.evaluate(test_dataset)\n",
        "print(results)\n",
        "\n",
        "# Display the results\n",
        "print(\"Evaluation Metrics:\")\n",
        "for metric, value in results.items():\n",
        "    if metric.startswith(\"eval_\"):\n",
        "        print(f\"{metric[5:]}: {value:.4f}\")\n",
        "\n",
        "# Get predictions from the test dataset\n",
        "predictions = trainer.predict(test_dataset)\n",
        "logits, labels = predictions.predictions, predictions.label_ids\n",
        "predicted_labels = logits.argmax(axis=-1)\n",
        "\n",
        "# Compute the confusion matrix\n",
        "cm = confusion_matrix(labels, predicted_labels)\n",
        "\n",
        "# Plot the confusion matrix\n",
        "disp = ConfusionMatrixDisplay(confusion_matrix=cm, display_labels=list(label_mapping.keys()))\n",
        "disp.plot(cmap=plt.cm.Blues)\n",
        "plt.title(\"Confusion Matrix\")\n",
        "plt.show()"
      ],
      "metadata": {
        "execution": {
          "iopub.status.busy": "2023-05-31T00:56:57.592556Z",
          "iopub.execute_input": "2023-05-31T00:56:57.592985Z",
          "iopub.status.idle": "2023-05-31T00:57:12.745319Z",
          "shell.execute_reply.started": "2023-05-31T00:56:57.592944Z",
          "shell.execute_reply": "2023-05-31T00:57:12.744131Z"
        },
        "trusted": true,
        "colab": {
          "base_uri": "https://localhost:8080/",
          "height": 874
        },
        "id": "G4_Qf6i16Nbb",
        "outputId": "3cfd3d5a-ca52-461c-e328-2fc608fedb2a"
      },
      "execution_count": null,
      "outputs": [
        {
          "output_type": "stream",
          "name": "stdout",
          "text": [
            "Requirement already satisfied: scikit-learn in /usr/local/lib/python3.10/dist-packages (1.5.2)\n",
            "Requirement already satisfied: numpy>=1.19.5 in /usr/local/lib/python3.10/dist-packages (from scikit-learn) (1.26.4)\n",
            "Requirement already satisfied: scipy>=1.6.0 in /usr/local/lib/python3.10/dist-packages (from scikit-learn) (1.13.1)\n",
            "Requirement already satisfied: joblib>=1.2.0 in /usr/local/lib/python3.10/dist-packages (from scikit-learn) (1.4.2)\n",
            "Requirement already satisfied: threadpoolctl>=3.1.0 in /usr/local/lib/python3.10/dist-packages (from scikit-learn) (3.5.0)\n"
          ]
        },
        {
          "output_type": "stream",
          "name": "stderr",
          "text": [
            "<ipython-input-39-561f78ecc01c>:22: FutureWarning: `tokenizer` is deprecated and will be removed in version 5.0.0 for `Trainer.__init__`. Use `processing_class` instead.\n",
            "  trainer = Trainer(\n",
            "<ipython-input-19-dad45323e1ef>:25: UserWarning: To copy construct from a tensor, it is recommended to use sourceTensor.clone().detach() or sourceTensor.clone().detach().requires_grad_(True), rather than torch.tensor(sourceTensor).\n",
            "  item = {key: torch.tensor(val[idx]) for key, val in self.encodings.items()}\n"
          ]
        },
        {
          "output_type": "display_data",
          "data": {
            "text/plain": [
              "<IPython.core.display.HTML object>"
            ],
            "text/html": []
          },
          "metadata": {}
        },
        {
          "output_type": "stream",
          "name": "stdout",
          "text": [
            "{'eval_loss': 0.4655664563179016, 'eval_model_preparation_time': 0.0035, 'eval_accuracy': 0.9191919191919192, 'eval_f1': 0.9190544448032321, 'eval_precision': 0.9206240136339037, 'eval_recall': 0.9191919191919192, 'eval_runtime': 1.3036, 'eval_samples_per_second': 303.774, 'eval_steps_per_second': 19.178}\n",
            "Evaluation Metrics:\n",
            "loss: 0.4656\n",
            "model_preparation_time: 0.0035\n",
            "accuracy: 0.9192\n",
            "f1: 0.9191\n",
            "precision: 0.9206\n",
            "recall: 0.9192\n",
            "runtime: 1.3036\n",
            "samples_per_second: 303.7740\n",
            "steps_per_second: 19.1780\n"
          ]
        },
        {
          "output_type": "stream",
          "name": "stderr",
          "text": [
            "<ipython-input-19-dad45323e1ef>:25: UserWarning: To copy construct from a tensor, it is recommended to use sourceTensor.clone().detach() or sourceTensor.clone().detach().requires_grad_(True), rather than torch.tensor(sourceTensor).\n",
            "  item = {key: torch.tensor(val[idx]) for key, val in self.encodings.items()}\n"
          ]
        },
        {
          "output_type": "display_data",
          "data": {
            "text/plain": [
              "<Figure size 640x480 with 2 Axes>"
            ],
            "image/png": "[encoded data removed]"
          },
          "metadata": {}
        }
      ]
    },
    {
      "cell_type": "markdown",
      "source": [
        "# Step 8: Save the Model"
      ],
      "metadata": {
        "id": "8idhO0EW6Nbb"
      }
    },
    {
      "cell_type": "code",
      "source": [
        "\n",
        "model.save_pretrained(\"/content/gdrive/MyDrive/IAT/IAT_360/FInalProject/Fine_tuned_Model/tweet_eval_finetuned\")\n",
        "tokenizer.save_pretrained(\"/content/gdrive/MyDrive/IAT/IAT_360/FInalProject/Fine_tuned_Model/tweet_eval_finetuned\")"
      ],
      "metadata": {
        "execution": {
          "iopub.status.busy": "2023-05-31T00:57:12.750273Z",
          "iopub.execute_input": "2023-05-31T00:57:12.751668Z",
          "iopub.status.idle": "2023-05-31T01:01:16.271670Z",
          "shell.execute_reply.started": "2023-05-31T00:57:12.751620Z",
          "shell.execute_reply": "2023-05-31T01:01:16.270525Z"
        },
        "trusted": true,
        "colab": {
          "base_uri": "https://localhost:8080/"
        },
        "id": "MwFsYiOd6Nbb",
        "outputId": "52f6360c-3669-4b93-a57c-91a0889ef1b0"
      },
      "execution_count": null,
      "outputs": [
        {
          "output_type": "execute_result",
          "data": {
            "text/plain": [
              "('/content/gdrive/MyDrive/IAT/IAT_360/FInalProject/Fine_tuned_Model/tweet_eval_finetuned/tokenizer_config.json',\n",
              " '/content/gdrive/MyDrive/IAT/IAT_360/FInalProject/Fine_tuned_Model/tweet_eval_finetuned/special_tokens_map.json',\n",
              " '/content/gdrive/MyDrive/IAT/IAT_360/FInalProject/Fine_tuned_Model/tweet_eval_finetuned/vocab.json',\n",
              " '/content/gdrive/MyDrive/IAT/IAT_360/FInalProject/Fine_tuned_Model/tweet_eval_finetuned/merges.txt',\n",
              " '/content/gdrive/MyDrive/IAT/IAT_360/FInalProject/Fine_tuned_Model/tweet_eval_finetuned/added_tokens.json',\n",
              " '/content/gdrive/MyDrive/IAT/IAT_360/FInalProject/Fine_tuned_Model/tweet_eval_finetuned/tokenizer.json')"
            ]
          },
          "metadata": {},
          "execution_count": 24
        }
      ]
    },
    {
      "cell_type": "markdown",
      "source": [
        "# Step 9: Build a pipeline and make predictions with fine-tuned model"
      ],
      "metadata": {
        "id": "0nfw3HCH6Nbb"
      }
    },
    {
      "cell_type": "code",
      "source": [
        "#Load the Fine-Tuned Model and Tokenizer\n",
        "from transformers import AutoTokenizer, AutoModelForSequenceClassification, pipeline\n",
        "\n",
        "# Load the fine-tuned model and tokenizer\n",
        "model_path = \"/content/gdrive/MyDrive/IAT/IAT_360/FInalProject/Fine_tuned_Model/tweet_eval_finetuned\"\n",
        "tokenizer = AutoTokenizer.from_pretrained(model_path)\n",
        "model = AutoModelForSequenceClassification.from_pretrained(model_path)\n",
        "\n",
        "# Create a sentiment analysis pipeline\n",
        "sentiment_pipeline = pipeline(\"text-classification\", model=model, tokenizer=tokenizer)"
      ],
      "metadata": {
        "execution": {
          "iopub.status.busy": "2023-05-31T01:01:16.276764Z",
          "iopub.execute_input": "2023-05-31T01:01:16.279937Z",
          "iopub.status.idle": "2023-05-31T01:12:08.534300Z",
          "shell.execute_reply.started": "2023-05-31T01:01:16.279889Z",
          "shell.execute_reply": "2023-05-31T01:12:08.533368Z"
        },
        "trusted": true,
        "colab": {
          "base_uri": "https://localhost:8080/"
        },
        "id": "qtCfpByf6Nbb",
        "outputId": "8eda6574-5be8-4e97-e5fe-42982b4152a0"
      },
      "execution_count": null,
      "outputs": [
        {
          "output_type": "stream",
          "name": "stderr",
          "text": [
            "Hardware accelerator e.g. GPU is available in the environment, but no `device` argument is passed to the `Pipeline` object. Model will be on CPU.\n"
          ]
        }
      ]
    },
    {
      "cell_type": "markdown",
      "source": [
        "# Step 10: Make Predictions"
      ],
      "metadata": {
        "id": "iNn1RWgSrziC"
      }
    },
    {
      "cell_type": "code",
      "source": [
        "texts = [\n",
        "    \"I feel so happy and grateful today!\",\n",
        "    \"This is the worst day of my life.\",\n",
        "    \"I am feeling anxious about the future.\"\n",
        "]\n",
        "\n",
        "# Get predictions\n",
        "predictions = sentiment_pipeline(texts)\n",
        "\n",
        "# Print the results\n",
        "for text, pred in zip(texts, predictions):\n",
        "    print(f\"Text: {text}\\nPrediction: {pred}\\n\")\n",
        "\n",
        "# Reverse label mapping\n",
        "reverse_label_mapping = {0: \"sadness\", 1: \"joy\", 2: \"fear\", 3: \"anger\", 4: \"surprise\", 5: \"love\"}\n",
        "\n",
        "# Convert predictions\n",
        "for text, pred in zip(texts, predictions):\n",
        "    label = reverse_label_mapping[int(pred['label'].split('_')[-1])]  # Extract numeric label\n",
        "    print(f\"Text: {text}\\nPredicted Sentiment: {label}, Confidence: {pred['score']:.4f}\\n\")"
      ],
      "metadata": {
        "execution": {
          "iopub.status.busy": "2023-05-31T01:12:08.537553Z",
          "iopub.execute_input": "2023-05-31T01:12:08.538590Z",
          "iopub.status.idle": "2023-05-31T01:16:03.823749Z",
          "shell.execute_reply.started": "2023-05-31T01:12:08.538551Z",
          "shell.execute_reply": "2023-05-31T01:16:03.822622Z"
        },
        "trusted": true,
        "colab": {
          "base_uri": "https://localhost:8080/"
        },
        "id": "1uZ4CEH06Nbc",
        "outputId": "10a11323-5761-48ca-a037-681f2a34c533"
      },
      "execution_count": null,
      "outputs": [
        {
          "output_type": "stream",
          "name": "stdout",
          "text": [
            "Text: I feel so happy and grateful today!\n",
            "Prediction: {'label': 'LABEL_1', 'score': 0.9993448853492737}\n",
            "\n",
            "Text: This is the worst day of my life.\n",
            "Prediction: {'label': 'LABEL_0', 'score': 0.9961680769920349}\n",
            "\n",
            "Text: I am feeling anxious about the future.\n",
            "Prediction: {'label': 'LABEL_2', 'score': 0.9992557168006897}\n",
            "\n",
            "Text: I feel so happy and grateful today!\n",
            "Predicted Sentiment: joy, Confidence: 0.9993\n",
            "\n",
            "Text: This is the worst day of my life.\n",
            "Predicted Sentiment: sadness, Confidence: 0.9962\n",
            "\n",
            "Text: I am feeling anxious about the future.\n",
            "Predicted Sentiment: fear, Confidence: 0.9993\n",
            "\n"
          ]
        }
      ]
    },
    {
      "cell_type": "markdown",
      "source": [
        "# Change one hyperparameter to see if the model's performance increase"
      ],
      "metadata": {
        "id": "77tIkhXi6Nbd"
      }
    },
    {
      "cell_type": "markdown",
      "source": [
        "##Modify the Batch Size (16 -> 32)"
      ],
      "metadata": {
        "id": "0UNHlqe_uPNw"
      }
    },
    {
      "cell_type": "code",
      "source": [
        "training_args = TrainingArguments(\n",
        "    output_dir=\"./results\",\n",
        "    evaluation_strategy=\"epoch\",\n",
        "    learning_rate=2e-5,\n",
        "    per_device_train_batch_size=32,  # Increased batch size\n",
        "    per_device_eval_batch_size=32,  # Adjusted evaluation batch size\n",
        "    num_train_epochs=10,\n",
        "    weight_decay=0.01,\n",
        "    logging_dir=\"./logs\",\n",
        "    logging_steps=10,\n",
        "    save_strategy=\"epoch\",\n",
        ")\n",
        "from transformers import Trainer\n",
        "\n",
        "trainer = Trainer(\n",
        "    model=model,\n",
        "    args=training_args,\n",
        "    train_dataset=train_dataset,\n",
        "    eval_dataset=val_dataset,\n",
        "    tokenizer=tokenizer,\n",
        ")\n",
        "\n",
        "trainer.train()"
      ],
      "metadata": {
        "collapsed": true,
        "colab": {
          "base_uri": "https://localhost:8080/",
          "height": 858
        },
        "id": "Wb1Qr-e4tnur",
        "outputId": "81cedb76-8881-4f4a-ec43-ab4e900103f1"
      },
      "execution_count": null,
      "outputs": [
        {
          "output_type": "stream",
          "name": "stderr",
          "text": [
            "/usr/local/lib/python3.10/dist-packages/transformers/training_args.py:1568: FutureWarning: `evaluation_strategy` is deprecated and will be removed in version 4.46 of 🤗 Transformers. Use `eval_strategy` instead\n",
            "  warnings.warn(\n",
            "<ipython-input-29-3a2d24ee3aa7>:15: FutureWarning: `tokenizer` is deprecated and will be removed in version 5.0.0 for `Trainer.__init__`. Use `processing_class` instead.\n",
            "  trainer = Trainer(\n",
            "<ipython-input-19-dad45323e1ef>:25: UserWarning: To copy construct from a tensor, it is recommended to use sourceTensor.clone().detach() or sourceTensor.clone().detach().requires_grad_(True), rather than torch.tensor(sourceTensor).\n",
            "  item = {key: torch.tensor(val[idx]) for key, val in self.encodings.items()}\n"
          ]
        },
        {
          "output_type": "display_data",
          "data": {
            "text/plain": [
              "<IPython.core.display.HTML object>"
            ],
            "text/html": [
              "\n",
              "    <div>\n",
              "      \n",
              "      <progress value='1080' max='1080' style='width:300px; height:20px; vertical-align: middle;'></progress>\n",
              "      [1080/1080 09:09, Epoch 10/10]\n",
              "    </div>\n",
              "    <table border=\"1\" class=\"dataframe\">\n",
              "  <thead>\n",
              " <tr style=\"text-align: left;\">\n",
              "      <th>Epoch</th>\n",
              "      <th>Training Loss</th>\n",
              "      <th>Validation Loss</th>\n",
              "    </tr>\n",
              "  </thead>\n",
              "  <tbody>\n",
              "    <tr>\n",
              "      <td>1</td>\n",
              "      <td>0.037700</td>\n",
              "      <td>0.490453</td>\n",
              "    </tr>\n",
              "    <tr>\n",
              "      <td>2</td>\n",
              "      <td>0.036600</td>\n",
              "      <td>0.588644</td>\n",
              "    </tr>\n",
              "    <tr>\n",
              "      <td>3</td>\n",
              "      <td>0.024100</td>\n",
              "      <td>0.540569</td>\n",
              "    </tr>\n",
              "    <tr>\n",
              "      <td>4</td>\n",
              "      <td>0.028000</td>\n",
              "      <td>0.560428</td>\n",
              "    </tr>\n",
              "    <tr>\n",
              "      <td>5</td>\n",
              "      <td>0.012000</td>\n",
              "      <td>0.514943</td>\n",
              "    </tr>\n",
              "    <tr>\n",
              "      <td>6</td>\n",
              "      <td>0.050900</td>\n",
              "      <td>0.572914</td>\n",
              "    </tr>\n",
              "    <tr>\n",
              "      <td>7</td>\n",
              "      <td>0.011000</td>\n",
              "      <td>0.539680</td>\n",
              "    </tr>\n",
              "    <tr>\n",
              "      <td>8</td>\n",
              "      <td>0.005600</td>\n",
              "      <td>0.561886</td>\n",
              "    </tr>\n",
              "    <tr>\n",
              "      <td>9</td>\n",
              "      <td>0.000300</td>\n",
              "      <td>0.566148</td>\n",
              "    </tr>\n",
              "    <tr>\n",
              "      <td>10</td>\n",
              "      <td>0.044500</td>\n",
              "      <td>0.564711</td>\n",
              "    </tr>\n",
              "  </tbody>\n",
              "</table><p>"
            ]
          },
          "metadata": {}
        },
        {
          "output_type": "stream",
          "name": "stderr",
          "text": [
            "<ipython-input-19-dad45323e1ef>:25: UserWarning: To copy construct from a tensor, it is recommended to use sourceTensor.clone().detach() or sourceTensor.clone().detach().requires_grad_(True), rather than torch.tensor(sourceTensor).\n",
            "  item = {key: torch.tensor(val[idx]) for key, val in self.encodings.items()}\n",
            "<ipython-input-19-dad45323e1ef>:25: UserWarning: To copy construct from a tensor, it is recommended to use sourceTensor.clone().detach() or sourceTensor.clone().detach().requires_grad_(True), rather than torch.tensor(sourceTensor).\n",
            "  item = {key: torch.tensor(val[idx]) for key, val in self.encodings.items()}\n",
            "<ipython-input-19-dad45323e1ef>:25: UserWarning: To copy construct from a tensor, it is recommended to use sourceTensor.clone().detach() or sourceTensor.clone().detach().requires_grad_(True), rather than torch.tensor(sourceTensor).\n",
            "  item = {key: torch.tensor(val[idx]) for key, val in self.encodings.items()}\n",
            "<ipython-input-19-dad45323e1ef>:25: UserWarning: To copy construct from a tensor, it is recommended to use sourceTensor.clone().detach() or sourceTensor.clone().detach().requires_grad_(True), rather than torch.tensor(sourceTensor).\n",
            "  item = {key: torch.tensor(val[idx]) for key, val in self.encodings.items()}\n",
            "<ipython-input-19-dad45323e1ef>:25: UserWarning: To copy construct from a tensor, it is recommended to use sourceTensor.clone().detach() or sourceTensor.clone().detach().requires_grad_(True), rather than torch.tensor(sourceTensor).\n",
            "  item = {key: torch.tensor(val[idx]) for key, val in self.encodings.items()}\n",
            "<ipython-input-19-dad45323e1ef>:25: UserWarning: To copy construct from a tensor, it is recommended to use sourceTensor.clone().detach() or sourceTensor.clone().detach().requires_grad_(True), rather than torch.tensor(sourceTensor).\n",
            "  item = {key: torch.tensor(val[idx]) for key, val in self.encodings.items()}\n",
            "<ipython-input-19-dad45323e1ef>:25: UserWarning: To copy construct from a tensor, it is recommended to use sourceTensor.clone().detach() or sourceTensor.clone().detach().requires_grad_(True), rather than torch.tensor(sourceTensor).\n",
            "  item = {key: torch.tensor(val[idx]) for key, val in self.encodings.items()}\n",
            "<ipython-input-19-dad45323e1ef>:25: UserWarning: To copy construct from a tensor, it is recommended to use sourceTensor.clone().detach() or sourceTensor.clone().detach().requires_grad_(True), rather than torch.tensor(sourceTensor).\n",
            "  item = {key: torch.tensor(val[idx]) for key, val in self.encodings.items()}\n",
            "<ipython-input-19-dad45323e1ef>:25: UserWarning: To copy construct from a tensor, it is recommended to use sourceTensor.clone().detach() or sourceTensor.clone().detach().requires_grad_(True), rather than torch.tensor(sourceTensor).\n",
            "  item = {key: torch.tensor(val[idx]) for key, val in self.encodings.items()}\n",
            "<ipython-input-19-dad45323e1ef>:25: UserWarning: To copy construct from a tensor, it is recommended to use sourceTensor.clone().detach() or sourceTensor.clone().detach().requires_grad_(True), rather than torch.tensor(sourceTensor).\n",
            "  item = {key: torch.tensor(val[idx]) for key, val in self.encodings.items()}\n"
          ]
        },
        {
          "output_type": "execute_result",
          "data": {
            "text/plain": [
              "TrainOutput(global_step=1080, training_loss=0.025699927671855593, metrics={'train_runtime': 549.9678, 'train_samples_per_second': 62.404, 'train_steps_per_second': 1.964, 'total_flos': 1252248040105920.0, 'train_loss': 0.025699927671855593, 'epoch': 10.0})"
            ]
          },
          "metadata": {},
          "execution_count": 29
        }
      ]
    },
    {
      "cell_type": "code",
      "source": [
        "from sklearn.metrics import accuracy_score, f1_score, precision_score, recall_score\n",
        "from transformers import Trainer\n",
        "from sklearn.metrics import confusion_matrix, ConfusionMatrixDisplay\n",
        "import matplotlib.pyplot as plt\n",
        "\n",
        "# Define the compute_metrics function\n",
        "def compute_metrics(eval_pred):\n",
        "    logits, labels = eval_pred\n",
        "    predictions = logits.argmax(axis=-1)  # Get the class with the highest logit\n",
        "    accuracy = accuracy_score(labels, predictions)\n",
        "    f1 = f1_score(labels, predictions, average=\"weighted\")  # Weighted F1 for imbalanced datasets\n",
        "    precision = precision_score(labels, predictions, average=\"weighted\")\n",
        "    recall = recall_score(labels, predictions, average=\"weighted\")\n",
        "    return {\n",
        "        \"accuracy\": accuracy,\n",
        "        \"f1\": f1,\n",
        "        \"precision\": precision,\n",
        "        \"recall\": recall,\n",
        "    }\n",
        "\n",
        "# Initialize the Trainer with the custom metrics\n",
        "trainer = Trainer(\n",
        "    model=model,\n",
        "    args=training_args,\n",
        "    train_dataset=train_dataset,\n",
        "    eval_dataset=val_dataset,\n",
        "    tokenizer=tokenizer,\n",
        "    compute_metrics=compute_metrics\n",
        ")\n",
        "\n",
        "# Evaluate the model on the test dataset\n",
        "results = trainer.evaluate(eval_dataset=test_dataset)\n",
        "\n",
        "# Display the results\n",
        "print(\"Evaluation Metrics:\")\n",
        "for metric, value in results.items():\n",
        "    if metric.startswith(\"eval_\"):\n",
        "        print(f\"{metric[5:]}: {value:.4f}\")\n",
        "\n",
        "# Get predictions from the test dataset\n",
        "predictions = trainer.predict(test_dataset)\n",
        "logits, labels = predictions.predictions, predictions.label_ids\n",
        "predicted_labels = logits.argmax(axis=-1)\n",
        "\n",
        "# Compute the confusion matrix\n",
        "cm = confusion_matrix(labels, predicted_labels)\n",
        "\n",
        "# Plot the confusion matrix\n",
        "disp = ConfusionMatrixDisplay(confusion_matrix=cm, display_labels=list(label_mapping.keys()))\n",
        "disp.plot(cmap=plt.cm.Blues)\n",
        "plt.title(\"Confusion Matrix\")\n",
        "plt.show()"
      ],
      "metadata": {
        "colab": {
          "base_uri": "https://localhost:8080/",
          "height": 750
        },
        "id": "3UGjwdVpv5f0",
        "outputId": "5a65e0d6-a877-4789-8fa7-6fac9323d61f"
      },
      "execution_count": null,
      "outputs": [
        {
          "output_type": "stream",
          "name": "stderr",
          "text": [
            "<ipython-input-36-9d051919dfcf>:22: FutureWarning: `tokenizer` is deprecated and will be removed in version 5.0.0 for `Trainer.__init__`. Use `processing_class` instead.\n",
            "  trainer = Trainer(\n",
            "<ipython-input-19-dad45323e1ef>:25: UserWarning: To copy construct from a tensor, it is recommended to use sourceTensor.clone().detach() or sourceTensor.clone().detach().requires_grad_(True), rather than torch.tensor(sourceTensor).\n",
            "  item = {key: torch.tensor(val[idx]) for key, val in self.encodings.items()}\n"
          ]
        },
        {
          "output_type": "display_data",
          "data": {
            "text/plain": [
              "<IPython.core.display.HTML object>"
            ],
            "text/html": []
          },
          "metadata": {}
        },
        {
          "output_type": "stream",
          "name": "stdout",
          "text": [
            "Evaluation Metrics:\n",
            "loss: 0.6315\n",
            "model_preparation_time: 0.0056\n",
            "accuracy: 0.9066\n",
            "f1: 0.9062\n",
            "precision: 0.9078\n",
            "recall: 0.9066\n",
            "runtime: 1.2975\n",
            "samples_per_second: 305.2140\n",
            "steps_per_second: 10.0200\n"
          ]
        },
        {
          "output_type": "stream",
          "name": "stderr",
          "text": [
            "<ipython-input-19-dad45323e1ef>:25: UserWarning: To copy construct from a tensor, it is recommended to use sourceTensor.clone().detach() or sourceTensor.clone().detach().requires_grad_(True), rather than torch.tensor(sourceTensor).\n",
            "  item = {key: torch.tensor(val[idx]) for key, val in self.encodings.items()}\n"
          ]
        },
        {
          "output_type": "display_data",
          "data": {
            "text/plain": [
              "<Figure size 640x480 with 2 Axes>"
            ],
            "image/png": "[encoded data removed]"
          },
          "metadata": {}
        }
      ]
    },
    {
      "cell_type": "markdown",
      "source": [
        "#Save the New Model"
      ],
      "metadata": {
        "id": "iLJkzfUdtuzL"
      }
    },
    {
      "cell_type": "code",
      "source": [
        "model.save_pretrained(\"/content/gdrive/MyDrive/IAT/IAT_360/FInalProject/Fine_tuned_Model_with_change/tweet_eval_finetuned\")\n",
        "tokenizer.save_pretrained(\"/content/gdrive/MyDrive/IAT/IAT_360/FInalProject/Fine_tuned_Model_with_change/tweet_eval_finetuned\")"
      ],
      "metadata": {
        "colab": {
          "base_uri": "https://localhost:8080/"
        },
        "id": "HbQxEIWOud6O",
        "outputId": "31ac74ee-1257-4317-9c52-4464943e1292"
      },
      "execution_count": null,
      "outputs": [
        {
          "output_type": "execute_result",
          "data": {
            "text/plain": [
              "('/content/gdrive/MyDrive/IAT/IAT_360/FInalProject/Fine_tuned_Model_with_change/tweet_eval_finetuned/tokenizer_config.json',\n",
              " '/content/gdrive/MyDrive/IAT/IAT_360/FInalProject/Fine_tuned_Model_with_change/tweet_eval_finetuned/special_tokens_map.json',\n",
              " '/content/gdrive/MyDrive/IAT/IAT_360/FInalProject/Fine_tuned_Model_with_change/tweet_eval_finetuned/vocab.json',\n",
              " '/content/gdrive/MyDrive/IAT/IAT_360/FInalProject/Fine_tuned_Model_with_change/tweet_eval_finetuned/merges.txt',\n",
              " '/content/gdrive/MyDrive/IAT/IAT_360/FInalProject/Fine_tuned_Model_with_change/tweet_eval_finetuned/added_tokens.json',\n",
              " '/content/gdrive/MyDrive/IAT/IAT_360/FInalProject/Fine_tuned_Model_with_change/tweet_eval_finetuned/tokenizer.json')"
            ]
          },
          "metadata": {},
          "execution_count": 33
        }
      ]
    },
    {
      "cell_type": "markdown",
      "source": [
        "# Test the both model performance with AI generated data"
      ],
      "metadata": {
        "id": "b_uCcDIBTRO-"
      }
    },
    {
      "cell_type": "markdown",
      "source": [
        "##Base Model (16 batch)"
      ],
      "metadata": {
        "id": "6QD4YmjfWrlK"
      }
    },
    {
      "cell_type": "code",
      "source": [
        "import pandas as pd\n",
        "\n",
        "# Load test.txt\n",
        "test_file_path = \"/content/gdrive/MyDrive/IAT/IAT_360/FInalProject/Testset.txt\"\n",
        "\n",
        "# Read the file into a DataFrame\n",
        "test_data = pd.read_csv(test_file_path, sep=';', header=None, names=['text', 'label'])\n",
        "\n",
        "# Map labels to numeric values (ensure this matches your training label mapping)\n",
        "label_mapping = {\n",
        "    'sadness': 0,\n",
        "    'joy': 1,\n",
        "    'fear': 2,\n",
        "    'anger': 3,\n",
        "    'surprise': 4,\n",
        "    'love': 5\n",
        "}\n",
        "test_data['label'] = test_data['label'].map(label_mapping)\n",
        "\n",
        "from transformers import AutoTokenizer\n",
        "\n",
        "# Load the tokenizer\n",
        "tokenizer = AutoTokenizer.from_pretrained(\"/content/gdrive/MyDrive/IAT/IAT_360/FInalProject/Fine_tuned_Model/tweet_eval_finetuned\")\n",
        "\n",
        "# Tokenize the test text\n",
        "test_encodings = tokenizer(\n",
        "    test_data['text'].tolist(),\n",
        "    padding=True,\n",
        "    truncation=True,\n",
        "    max_length=128,\n",
        "    return_tensors=\"pt\"\n",
        ")\n",
        "\n",
        "import torch\n",
        "\n",
        "class CustomTestDataset(torch.utils.data.Dataset):\n",
        "    def __init__(self, encodings, labels):\n",
        "        self.encodings = encodings\n",
        "        self.labels = labels\n",
        "\n",
        "    def __len__(self):\n",
        "        return len(self.labels)\n",
        "\n",
        "    def __getitem__(self, idx):\n",
        "        item = {key: val[idx] for key, val in self.encodings.items()}\n",
        "        item['labels'] = torch.tensor(self.labels[idx])\n",
        "        return item\n",
        "\n",
        "test_dataset = CustomTestDataset(test_encodings, test_data['label'].tolist())\n",
        "\n",
        "from transformers import AutoModelForSequenceClassification, Trainer\n",
        "\n",
        "# Load the fine-tuned model\n",
        "model = AutoModelForSequenceClassification.from_pretrained(\"/content/gdrive/MyDrive/IAT/IAT_360/FInalProject/Fine_tuned_Model/tweet_eval_finetuned\")\n",
        "\n",
        "# Define the Trainer with the model\n",
        "trainer = Trainer(\n",
        "    model=model,\n",
        "    tokenizer=tokenizer\n",
        ")\n",
        "\n",
        "# Evaluate the model on the test dataset\n",
        "results = trainer.evaluate(eval_dataset=test_dataset)\n",
        "\n",
        "# Print the evaluation metrics\n",
        "print(\"Evaluation Metrics:\")\n",
        "for metric, value in results.items():\n",
        "    if metric.startswith(\"eval_\"):\n",
        "        print(f\"{metric[5:]}: {value:.4f}\")"
      ],
      "metadata": {
        "colab": {
          "base_uri": "https://localhost:8080/",
          "height": 404
        },
        "id": "v6pJ_NovTi25",
        "outputId": "2b1b6c7c-7b8d-4c92-d3fe-23dd1173a54a"
      },
      "execution_count": 2,
      "outputs": [
        {
          "output_type": "stream",
          "name": "stderr",
          "text": [
            "<ipython-input-2-2123b7d2ec9c>:57: FutureWarning: `tokenizer` is deprecated and will be removed in version 5.0.0 for `Trainer.__init__`. Use `processing_class` instead.\n",
            "  trainer = Trainer(\n"
          ]
        },
        {
          "output_type": "display_data",
          "data": {
            "text/plain": [
              "<IPython.core.display.HTML object>"
            ],
            "text/html": [
              "\n",
              "    <div>\n",
              "      \n",
              "      <progress value='15' max='15' style='width:300px; height:20px; vertical-align: middle;'></progress>\n",
              "      [15/15 00:11]\n",
              "    </div>\n",
              "    "
            ]
          },
          "metadata": {}
        },
        {
          "output_type": "stream",
          "name": "stderr",
          "text": [
            "\u001b[34m\u001b[1mwandb\u001b[0m: \u001b[33mWARNING\u001b[0m The `run_name` is currently set to the same value as `TrainingArguments.output_dir`. If this was not intended, please specify a different run name by setting the `TrainingArguments.run_name` parameter.\n",
            "\u001b[34m\u001b[1mwandb\u001b[0m: Using wandb-core as the SDK backend.  Please refer to https://wandb.me/wandb-core for more information.\n"
          ]
        },
        {
          "output_type": "display_data",
          "data": {
            "text/plain": [
              "<IPython.core.display.Javascript object>"
            ],
            "application/javascript": [
              "\n",
              "        window._wandbApiKey = new Promise((resolve, reject) => {\n",
              "            function loadScript(url) {\n",
              "            return new Promise(function(resolve, reject) {\n",
              "                let newScript = document.createElement(\"script\");\n",
              "                newScript.onerror = reject;\n",
              "                newScript.onload = resolve;\n",
              "                document.body.appendChild(newScript);\n",
              "                newScript.src = url;\n",
              "            });\n",
              "            }\n",
              "            loadScript(\"https://cdn.jsdelivr.net/npm/postmate/build/postmate.min.js\").then(() => {\n",
              "            const iframe = document.createElement('iframe')\n",
              "            iframe.style.cssText = \"width:0;height:0;border:none\"\n",
              "            document.body.appendChild(iframe)\n",
              "            const handshake = new Postmate({\n",
              "                container: iframe,\n",
              "                url: 'https://wandb.ai/authorize'\n",
              "            });\n",
              "            const timeout = setTimeout(() => reject(\"Couldn't auto authenticate\"), 5000)\n",
              "            handshake.then(function(child) {\n",
              "                child.on('authorize', data => {\n",
              "                    clearTimeout(timeout)\n",
              "                    resolve(data)\n",
              "                });\n",
              "            });\n",
              "            })\n",
              "        });\n",
              "    "
            ]
          },
          "metadata": {}
        },
        {
          "output_type": "stream",
          "name": "stderr",
          "text": [
            "\u001b[34m\u001b[1mwandb\u001b[0m: Logging into wandb.ai. (Learn how to deploy a W&B server locally: https://wandb.me/wandb-server)\n",
            "\u001b[34m\u001b[1mwandb\u001b[0m: You can find your API key in your browser here: https://wandb.ai/authorize\n",
            "wandb: Paste an API key from your profile and hit enter, or press ctrl+c to quit:"
          ]
        },
        {
          "name": "stdout",
          "output_type": "stream",
          "text": [
            " ··········\n"
          ]
        },
        {
          "output_type": "stream",
          "name": "stderr",
          "text": [
            "\u001b[34m\u001b[1mwandb\u001b[0m: Appending key for api.wandb.ai to your netrc file: /root/.netrc\n"
          ]
        },
        {
          "output_type": "display_data",
          "data": {
            "text/plain": [
              "<IPython.core.display.HTML object>"
            ],
            "text/html": [
              "Tracking run with wandb version 0.18.7"
            ]
          },
          "metadata": {}
        },
        {
          "output_type": "display_data",
          "data": {
            "text/plain": [
              "<IPython.core.display.HTML object>"
            ],
            "text/html": [
              "Run data is saved locally in <code>/content/wandb/run-20241212_014426-15q3cc7x</code>"
            ]
          },
          "metadata": {}
        },
        {
          "output_type": "display_data",
          "data": {
            "text/plain": [
              "<IPython.core.display.HTML object>"
            ],
            "text/html": [
              "Syncing run <strong><a href='https://wandb.ai/g74261700027-simon-fraser-university/huggingface/runs/15q3cc7x' target=\"_blank\">tmp_trainer</a></strong> to <a href='https://wandb.ai/g74261700027-simon-fraser-university/huggingface' target=\"_blank\">Weights & Biases</a> (<a href='https://wandb.me/developer-guide' target=\"_blank\">docs</a>)<br/>"
            ]
          },
          "metadata": {}
        },
        {
          "output_type": "display_data",
          "data": {
            "text/plain": [
              "<IPython.core.display.HTML object>"
            ],
            "text/html": [
              " View project at <a href='https://wandb.ai/g74261700027-simon-fraser-university/huggingface' target=\"_blank\">https://wandb.ai/g74261700027-simon-fraser-university/huggingface</a>"
            ]
          },
          "metadata": {}
        },
        {
          "output_type": "display_data",
          "data": {
            "text/plain": [
              "<IPython.core.display.HTML object>"
            ],
            "text/html": [
              " View run at <a href='https://wandb.ai/g74261700027-simon-fraser-university/huggingface/runs/15q3cc7x' target=\"_blank\">https://wandb.ai/g74261700027-simon-fraser-university/huggingface/runs/15q3cc7x</a>"
            ]
          },
          "metadata": {}
        },
        {
          "output_type": "stream",
          "name": "stdout",
          "text": [
            "Evaluation Metrics:\n",
            "loss: 1.3032\n",
            "model_preparation_time: 0.0038\n",
            "runtime: 13.7968\n",
            "samples_per_second: 8.6980\n",
            "steps_per_second: 1.0870\n"
          ]
        }
      ]
    },
    {
      "cell_type": "markdown",
      "source": [
        "Predict the sentiment for each sentence in the test file:"
      ],
      "metadata": {
        "id": "U6w2BhPWWCRh"
      }
    },
    {
      "cell_type": "code",
      "source": [
        "# Get predictions\n",
        "predictions = trainer.predict(test_dataset)\n",
        "logits, labels = predictions.predictions, predictions.label_ids\n",
        "predicted_labels = logits.argmax(axis=-1)\n",
        "\n",
        "# Map numeric predictions back to their labels\n",
        "reverse_label_mapping = {v: k for k, v in label_mapping.items()}\n",
        "test_data['predicted_label'] = [reverse_label_mapping[label] for label in predicted_labels]\n",
        "\n",
        "# Display some predictions\n",
        "print(test_data[['text', 'label', 'predicted_label']].head())"
      ],
      "metadata": {
        "colab": {
          "base_uri": "https://localhost:8080/",
          "height": 121
        },
        "id": "vKL3gDMMV_-w",
        "outputId": "72ce5370-b7b6-4021-99a7-07563e26641e"
      },
      "execution_count": 3,
      "outputs": [
        {
          "output_type": "display_data",
          "data": {
            "text/plain": [
              "<IPython.core.display.HTML object>"
            ],
            "text/html": []
          },
          "metadata": {}
        },
        {
          "output_type": "stream",
          "name": "stdout",
          "text": [
            "                                                text  label predicted_label\n",
            "0  Just got a surprise promotion I NEVER saw coming!      4             joy\n",
            "1  Another birthday alone. Wondering if I'll ever...      0             joy\n",
            "2  Politicians continue to fail us. WHEN WILL THI...      3         sadness\n",
            "3  Medical test results coming in. Anxiety is thr...      2            fear\n",
            "4      Married my best friend today. Soulmate found!      5            love\n"
          ]
        }
      ]
    },
    {
      "cell_type": "code",
      "source": [
        "#visualize the confusion matrix:\n",
        "from sklearn.metrics import confusion_matrix, ConfusionMatrixDisplay\n",
        "import matplotlib.pyplot as plt\n",
        "\n",
        "# Compute confusion matrix\n",
        "cm = confusion_matrix(labels, predicted_labels)\n",
        "\n",
        "# Display confusion matrix\n",
        "disp = ConfusionMatrixDisplay(confusion_matrix=cm, display_labels=list(label_mapping.keys()))\n",
        "disp.plot(cmap='Blues')\n",
        "plt.title(\"Confusion Matrix\")\n",
        "plt.show()\n"
      ],
      "metadata": {
        "colab": {
          "base_uri": "https://localhost:8080/",
          "height": 472
        },
        "id": "-Qd8ptyeWKqP",
        "outputId": "bed6eb49-7fbf-4cbc-be1a-e17f5eab61f2"
      },
      "execution_count": 4,
      "outputs": [
        {
          "output_type": "display_data",
          "data": {
            "text/plain": [
              "<Figure size 640x480 with 2 Axes>"
            ],
            "image/png": "[encoded data removed]"
          },
          "metadata": {}
        }
      ]
    },
    {
      "cell_type": "markdown",
      "source": [
        "##Changed Model (32 batch)"
      ],
      "metadata": {
        "id": "CoChc8dxW1c5"
      }
    },
    {
      "cell_type": "code",
      "source": [
        "import pandas as pd\n",
        "\n",
        "# Load test.txt\n",
        "test_file_path = \"/content/gdrive/MyDrive/IAT/IAT_360/FInalProject/Testset.txt\"\n",
        "\n",
        "# Read the file into a DataFrame\n",
        "test_data = pd.read_csv(test_file_path, sep=';', header=None, names=['text', 'label'])\n",
        "\n",
        "# Map labels to numeric values (ensure this matches your training label mapping)\n",
        "label_mapping = {\n",
        "    'sadness': 0,\n",
        "    'joy': 1,\n",
        "    'fear': 2,\n",
        "    'anger': 3,\n",
        "    'surprise': 4,\n",
        "    'love': 5\n",
        "}\n",
        "test_data['label'] = test_data['label'].map(label_mapping)\n",
        "\n",
        "from transformers import AutoTokenizer\n",
        "\n",
        "# Load the tokenizer\n",
        "tokenizer = AutoTokenizer.from_pretrained(\"/content/gdrive/MyDrive/IAT/IAT_360/FInalProject/Fine_tuned_Model_with_change/tweet_eval_finetuned\")\n",
        "\n",
        "# Tokenize the test text\n",
        "test_encodings = tokenizer(\n",
        "    test_data['text'].tolist(),\n",
        "    padding=True,\n",
        "    truncation=True,\n",
        "    max_length=128,\n",
        "    return_tensors=\"pt\"\n",
        ")\n",
        "\n",
        "import torch\n",
        "\n",
        "class CustomTestDataset(torch.utils.data.Dataset):\n",
        "    def __init__(self, encodings, labels):\n",
        "        self.encodings = encodings\n",
        "        self.labels = labels\n",
        "\n",
        "    def __len__(self):\n",
        "        return len(self.labels)\n",
        "\n",
        "    def __getitem__(self, idx):\n",
        "        item = {key: val[idx] for key, val in self.encodings.items()}\n",
        "        item['labels'] = torch.tensor(self.labels[idx])\n",
        "        return item\n",
        "\n",
        "test_dataset = CustomTestDataset(test_encodings, test_data['label'].tolist())\n",
        "\n",
        "from transformers import AutoModelForSequenceClassification, Trainer\n",
        "\n",
        "# Load the fine-tuned model\n",
        "model = AutoModelForSequenceClassification.from_pretrained(\"/content/gdrive/MyDrive/IAT/IAT_360/FInalProject/Fine_tuned_Model_with_change/tweet_eval_finetuned\")\n",
        "\n",
        "# Define the Trainer with the model\n",
        "trainer = Trainer(\n",
        "    model=model,\n",
        "    tokenizer=tokenizer\n",
        ")\n",
        "\n",
        "# Evaluate the model on the test dataset\n",
        "results = trainer.evaluate(eval_dataset=test_dataset)\n",
        "\n",
        "# Print the evaluation metrics\n",
        "print(\"Evaluation Metrics:\")\n",
        "for metric, value in results.items():\n",
        "    if metric.startswith(\"eval_\"):\n",
        "        print(f\"{metric[5:]}: {value:.4f}\")"
      ],
      "metadata": {
        "colab": {
          "base_uri": "https://localhost:8080/",
          "height": 176
        },
        "outputId": "f9e5d95b-c651-4f31-9e5f-d9a1976abc23",
        "id": "QlqS-jRGW1c-"
      },
      "execution_count": 14,
      "outputs": [
        {
          "output_type": "stream",
          "name": "stderr",
          "text": [
            "<ipython-input-14-f3e905eaf08d>:57: FutureWarning: `tokenizer` is deprecated and will be removed in version 5.0.0 for `Trainer.__init__`. Use `processing_class` instead.\n",
            "  trainer = Trainer(\n"
          ]
        },
        {
          "output_type": "display_data",
          "data": {
            "text/plain": [
              "<IPython.core.display.HTML object>"
            ],
            "text/html": [
              "\n",
              "    <div>\n",
              "      \n",
              "      <progress value='15' max='15' style='width:300px; height:20px; vertical-align: middle;'></progress>\n",
              "      [15/15 00:11]\n",
              "    </div>\n",
              "    "
            ]
          },
          "metadata": {}
        },
        {
          "output_type": "stream",
          "name": "stdout",
          "text": [
            "Evaluation Metrics:\n",
            "loss: 1.3032\n",
            "model_preparation_time: 0.0091\n",
            "runtime: 15.4862\n",
            "samples_per_second: 7.7490\n",
            "steps_per_second: 0.9690\n"
          ]
        }
      ]
    },
    {
      "cell_type": "markdown",
      "source": [
        "Predict the sentiment for each sentence in the test file:"
      ],
      "metadata": {
        "id": "2W4Wd11iW1c_"
      }
    },
    {
      "cell_type": "code",
      "source": [
        "# Get predictions\n",
        "predictions = trainer.predict(test_dataset)\n",
        "logits, labels = predictions.predictions, predictions.label_ids\n",
        "predicted_labels = logits.argmax(axis=-1)\n",
        "\n",
        "# Map numeric predictions back to their labels\n",
        "reverse_label_mapping = {v: k for k, v in label_mapping.items()}\n",
        "test_data['predicted_label'] = [reverse_label_mapping[label] for label in predicted_labels]\n",
        "\n",
        "# Display some predictions\n",
        "print(test_data[['text', 'label', 'predicted_label']].head())"
      ],
      "metadata": {
        "outputId": "63036acb-9672-472b-e1d0-313513b489f1",
        "colab": {
          "base_uri": "https://localhost:8080/",
          "height": 121
        },
        "id": "S9vwR92QW1c_"
      },
      "execution_count": 15,
      "outputs": [
        {
          "output_type": "display_data",
          "data": {
            "text/plain": [
              "<IPython.core.display.HTML object>"
            ],
            "text/html": []
          },
          "metadata": {}
        },
        {
          "output_type": "stream",
          "name": "stdout",
          "text": [
            "                                                text  label predicted_label\n",
            "0  Just got a surprise promotion I NEVER saw coming!      4             joy\n",
            "1  Another birthday alone. Wondering if I'll ever...      0             joy\n",
            "2  Politicians continue to fail us. WHEN WILL THI...      3         sadness\n",
            "3  Medical test results coming in. Anxiety is thr...      2            fear\n",
            "4      Married my best friend today. Soulmate found!      5            love\n"
          ]
        }
      ]
    },
    {
      "cell_type": "code",
      "source": [
        "#visualize the confusion matrix:\n",
        "from sklearn.metrics import confusion_matrix, ConfusionMatrixDisplay\n",
        "import matplotlib.pyplot as plt\n",
        "\n",
        "# Compute confusion matrix\n",
        "cm = confusion_matrix(labels, predicted_labels)\n",
        "\n",
        "# Display confusion matrix\n",
        "disp = ConfusionMatrixDisplay(confusion_matrix=cm, display_labels=list(label_mapping.keys()))\n",
        "disp.plot(cmap='Blues')\n",
        "plt.title(\"Confusion Matrix\")\n",
        "plt.show()\n"
      ],
      "metadata": {
        "outputId": "f28ff7a2-27c4-4ea8-ff44-55e4f61bea68",
        "colab": {
          "base_uri": "https://localhost:8080/",
          "height": 472
        },
        "id": "kDtygaNJW1c_"
      },
      "execution_count": 16,
      "outputs": [
        {
          "output_type": "display_data",
          "data": {
            "text/plain": [
              "<Figure size 640x480 with 2 Axes>"
            ],
            "image/png": "[encoded data removed]"
          },
          "metadata": {}
        }
      ]
    }
  ]
}